{
 "cells": [
  {
   "cell_type": "code",
   "execution_count": 1,
   "id": "b834ec7e-cfe9-4136-9f9d-e94e936b38f4",
   "metadata": {},
   "outputs": [],
   "source": [
    "#[Assignment_01] Basic's "
   ]
  },
  {
   "cell_type": "code",
   "execution_count": 2,
   "id": "01a41e08-f98c-4744-979f-e05fc7faa1eb",
   "metadata": {},
   "outputs": [
    {
     "name": "stdout",
     "output_type": "stream",
     "text": [
      "100.0\n",
      "100\n",
      "Mehvish\n"
     ]
    }
   ],
   "source": [
    "# Data types \n",
    "# Types of Variable\n",
    "counter = 100.00 #float type variable inc decimal \n",
    "miles = 100 #integer type variable \n",
    "name = \"Mehvish\" #string type variable\n",
    "\n",
    "#Printing variable using print function\n",
    "print (counter)\n",
    "print (miles)\n",
    "print (name)"
   ]
  },
  {
   "cell_type": "code",
   "execution_count": 3,
   "id": "29be8807-5e5a-4331-bbad-da5bd0e906d0",
   "metadata": {},
   "outputs": [
    {
     "data": {
      "text/plain": [
       "2"
      ]
     },
     "execution_count": 3,
     "metadata": {},
     "output_type": "execute_result"
    }
   ],
   "source": [
    "#Numbers\n",
    "2 #integer value "
   ]
  },
  {
   "cell_type": "code",
   "execution_count": 4,
   "id": "d9fc90b0-b5ae-4834-aa25-41076bab5fe9",
   "metadata": {},
   "outputs": [
    {
     "data": {
      "text/plain": [
       "5"
      ]
     },
     "execution_count": 4,
     "metadata": {},
     "output_type": "execute_result"
    }
   ],
   "source": [
    "2+3 #integer addition"
   ]
  },
  {
   "cell_type": "code",
   "execution_count": 5,
   "id": "8d4b200d-00d5-4bfd-9908-1bfb75f925e3",
   "metadata": {},
   "outputs": [
    {
     "data": {
      "text/plain": [
       "7.8"
      ]
     },
     "execution_count": 5,
     "metadata": {},
     "output_type": "execute_result"
    }
   ],
   "source": [
    "2.3+5.5 #addition of float type variable"
   ]
  },
  {
   "cell_type": "code",
   "execution_count": 6,
   "id": "8bb6b296-b8ea-4ccc-8987-63dec971e866",
   "metadata": {},
   "outputs": [
    {
     "data": {
      "text/plain": [
       "4"
      ]
     },
     "execution_count": 6,
     "metadata": {},
     "output_type": "execute_result"
    }
   ],
   "source": [
    "2**2 #exponent "
   ]
  },
  {
   "cell_type": "code",
   "execution_count": 7,
   "id": "d934a8ca-528f-4835-bf0d-3c19b22215f8",
   "metadata": {},
   "outputs": [
    {
     "name": "stdout",
     "output_type": "stream",
     "text": [
      "Mehvish COMSATS\n"
     ]
    }
   ],
   "source": [
    "#stings variable \n",
    "name = 'Mehvish'\n",
    "university = \"COMSATS\" \n",
    "# storing name and university in a variable\n",
    "\n",
    "print(name,university) #printing name and university using print funtion"
   ]
  },
  {
   "cell_type": "code",
   "execution_count": 8,
   "id": "93c1265b-d0b2-48cd-987b-6fe3478dbca8",
   "metadata": {},
   "outputs": [
    {
     "name": "stdout",
     "output_type": "stream",
     "text": [
      "Updated string: Hello Python\n"
     ]
    }
   ],
   "source": [
    "#updating string\n",
    "stringVariable = \"Hello World\" #storing orginal string\n",
    "stringVariable = stringVariable[:6] + \"Python\" # replacing part using + operator\n",
    "\n",
    "print(\"Updated string:\",stringVariable)"
   ]
  },
  {
   "cell_type": "code",
   "execution_count": 9,
   "id": "4d844f41-1299-4ac9-b0a1-2d646bac3687",
   "metadata": {},
   "outputs": [
    {
     "name": "stdout",
     "output_type": "stream",
     "text": [
      "Hello World\n"
     ]
    },
    {
     "ename": "NameError",
     "evalue": "name 'stringVariable' is not defined",
     "output_type": "error",
     "traceback": [
      "\u001b[1;31m---------------------------------------------------------------------------\u001b[0m",
      "\u001b[1;31mNameError\u001b[0m                                 Traceback (most recent call last)",
      "Cell \u001b[1;32mIn[9], line 5\u001b[0m\n\u001b[0;32m      3\u001b[0m \u001b[38;5;28mprint\u001b[39m(stringVariable) \u001b[38;5;66;03m#prints the string\u001b[39;00m\n\u001b[0;32m      4\u001b[0m \u001b[38;5;28;01mdel\u001b[39;00m stringVariable    \u001b[38;5;66;03m#deletes the variable from memory\u001b[39;00m\n\u001b[1;32m----> 5\u001b[0m \u001b[38;5;28mprint\u001b[39m(stringVariable)\n",
      "\u001b[1;31mNameError\u001b[0m: name 'stringVariable' is not defined"
     ]
    }
   ],
   "source": [
    "#delete String\n",
    "stringVariable = \"Hello World\"\n",
    "print(stringVariable) #prints the string\n",
    "del stringVariable    #deletes the variable from memory\n",
    "print(stringVariable) #variable no longer exists, it will give NameError."
   ]
  },
  {
   "cell_type": "code",
   "execution_count": 10,
   "id": "2fea4f9c-9c06-4437-8782-71014ec78d99",
   "metadata": {},
   "outputs": [
    {
     "name": "stdout",
     "output_type": "stream",
     "text": [
      "Hello World\n"
     ]
    }
   ],
   "source": [
    "#fixing Error\n",
    "stringVariable = \"Hello World\" #redefining the variable\n",
    "print(stringVariable) # printing string"
   ]
  },
  {
   "cell_type": "code",
   "execution_count": 11,
   "id": "4685ae27-63ad-47ba-9899-10f8c41b302a",
   "metadata": {},
   "outputs": [
    {
     "name": "stdout",
     "output_type": "stream",
     "text": [
      "HelloPython\n"
     ]
    }
   ],
   "source": [
    "#String special operators \n",
    "variable = \"Hello\" #storing string in a variable\n",
    "print(variable+\"Python\") # '+' operator used for concatenation\n"
   ]
  },
  {
   "cell_type": "code",
   "execution_count": 12,
   "id": "4e1f7960-6c94-43e5-bb4b-d7b702184512",
   "metadata": {},
   "outputs": [
    {
     "name": "stdout",
     "output_type": "stream",
     "text": [
      "HelloHelloHello\n"
     ]
    }
   ],
   "source": [
    "variable = \"Hello\"\n",
    "print(variable*3) #printing,'*' operator used for repetition "
   ]
  },
  {
   "cell_type": "code",
   "execution_count": 13,
   "id": "5c0da7de-8508-4653-9b3d-7319b5ab5953",
   "metadata": {},
   "outputs": [
    {
     "name": "stdout",
     "output_type": "stream",
     "text": [
      "e\n"
     ]
    }
   ],
   "source": [
    "variable = \"Hello\"\n",
    "print(variable[1]) #printing character at index 1 by using the '[]' operator"
   ]
  },
  {
   "cell_type": "code",
   "execution_count": 14,
   "id": "247c3b27-f718-49f1-a095-5ee1cd47b1ff",
   "metadata": {},
   "outputs": [
    {
     "name": "stdout",
     "output_type": "stream",
     "text": [
      "el\n"
     ]
    }
   ],
   "source": [
    "variable = \"Hello\"\n",
    "print(variable[1:3]) # printing characters at index 1 and 2 usingg'[:]' slicing operator' "
   ]
  },
  {
   "cell_type": "code",
   "execution_count": 15,
   "id": "57d3cc85-efd2-4f1e-ad45-ab635dd780c3",
   "metadata": {},
   "outputs": [
    {
     "name": "stdout",
     "output_type": "stream",
     "text": [
      "True\n"
     ]
    }
   ],
   "source": [
    "variable = \"Hello\" \n",
    "print('H'in variable) # 'in' checks whether 'H' exists in the string "
   ]
  },
  {
   "cell_type": "code",
   "execution_count": 16,
   "id": "1f408bc2-dc09-435e-8ff2-68f866b4ae16",
   "metadata": {},
   "outputs": [
    {
     "name": "stdout",
     "output_type": "stream",
     "text": [
      "My name is Zara and age is 21! kg\n"
     ]
    }
   ],
   "source": [
    "#string formatting operator\n",
    "print (\"My name is %s and age is %d! kg\" % (\"Zara\",21))"
   ]
  },
  {
   "cell_type": "code",
   "execution_count": 17,
   "id": "12371617-ec5b-4c83-8080-270980d1aeae",
   "metadata": {},
   "outputs": [
    {
     "name": "stdout",
     "output_type": "stream",
     "text": [
      "['Mehvish', '1880']\n"
     ]
    }
   ],
   "source": [
    "#Lists\n",
    "list1 = ['Mehvish','1880']\n",
    "print(list1)"
   ]
  },
  {
   "cell_type": "code",
   "execution_count": 18,
   "id": "cffd3ab3-bc9b-482d-869b-7a3284d00cbb",
   "metadata": {},
   "outputs": [
    {
     "name": "stdout",
     "output_type": "stream",
     "text": [
      "list1[0]:  physics\n",
      "list2[1:5]:  [2, 3, 4, 5]\n"
     ]
    }
   ],
   "source": [
    "#accessing values in lists\n",
    "list1 = ['physics','chemistry',1997,2000]; # list of string and integer\n",
    "list2 = [1,2,3,4,5,6,7];\n",
    "\n",
    "print(\"list1[0]: \",list1[0])\n",
    "print(\"list2[1:5]: \",list2[1:5])"
   ]
  },
  {
   "cell_type": "code",
   "execution_count": 19,
   "id": "4917b533-e7a6-4c81-a186-1adc0d5b1203",
   "metadata": {},
   "outputs": [
    {
     "name": "stdout",
     "output_type": "stream",
     "text": [
      "['physics', 'computer science', 1997, 2000]\n",
      "['physics', 'computer science', 1997, 2000, 'Computer Science']\n"
     ]
    }
   ],
   "source": [
    "#updating lists\n",
    "list1 =['physics','chemistry',1997,2000];\n",
    "list1[1] =\"computer science\"\n",
    "print(list1)\n",
    "\n",
    "list1.append('Computer Science') #updating\n",
    "print(list1)"
   ]
  },
  {
   "cell_type": "code",
   "execution_count": 20,
   "id": "d3fdae86-3d13-4d4d-ae47-d3d80de2b21e",
   "metadata": {},
   "outputs": [
    {
     "name": "stdout",
     "output_type": "stream",
     "text": [
      "['physics', 'chemistry', 1997, 2000]\n",
      "After deleting value at index 2 : \n",
      "['physics', 'chemistry', 2000]\n"
     ]
    }
   ],
   "source": [
    "list1 =['physics','chemistry',1997,2000];\n",
    "print (list1)\n",
    "\n",
    "del list1[2]; #delete list element [2] which is 1997. \n",
    "\n",
    "print(\"After deleting value at index 2 : \")\n",
    "print(list1) #list after deletion of element"
   ]
  },
  {
   "cell_type": "code",
   "execution_count": 21,
   "id": "1baaee17-9f29-44ae-8fba-b8270bc8c2dd",
   "metadata": {},
   "outputs": [
    {
     "name": "stdout",
     "output_type": "stream",
     "text": [
      "['physics', 'chemistry', 1997, 2000]\n",
      "After deleting value at index 2 : \n",
      "['physics', 1997, 2000]\n"
     ]
    }
   ],
   "source": [
    "list1 =['physics','chemistry',1997,2000];\n",
    "print (list1)\n",
    "\n",
    "list1.remove('chemistry') #remove function used \n",
    "print (\"After deleting value at index 2 : \")\n",
    "print (list1)"
   ]
  },
  {
   "cell_type": "code",
   "execution_count": 22,
   "id": "f2613d8f-10ab-4cfc-91cf-397cd283df10",
   "metadata": {},
   "outputs": [
    {
     "name": "stdout",
     "output_type": "stream",
     "text": [
      "Mehvish\n"
     ]
    }
   ],
   "source": [
    "#dictionaries 'dict' used to store data, shown by the example below\n",
    "dict = {'Name': \"Mehvish\",'Depart': \"BCS\", 'Batch': 2014}\n",
    "print (dict['Name'])\n"
   ]
  },
  {
   "cell_type": "code",
   "execution_count": 23,
   "id": "0124b549-de31-4f69-96fb-bd157d55628c",
   "metadata": {},
   "outputs": [
    {
     "name": "stdout",
     "output_type": "stream",
     "text": [
      "{'Name': 'Mehvish', 'Depart': 'BCS', 'Batch': 2014}\n",
      "{'Name': 'Mehvish', 'Depart': 'BCS', 'Batch': 'SP14'}\n",
      "{'Name': 'Mehvish', 'Depart': 'BCS', 'Batch': 'SP14', 'University': 'COMSATS'}\n"
     ]
    }
   ],
   "source": [
    "# dictionary can be updated, shown below\n",
    "dict = {'Name': \"Mehvish\",'Depart':\"BCS\", 'Batch' : 2014}\n",
    "print (dict)\n",
    "dict['Batch'] = \"SP14\" #updating existing value\n",
    "print (dict)\n",
    "\n",
    "dict['University'] = \"COMSATS\" #adding new entry \n",
    "print(dict)"
   ]
  },
  {
   "cell_type": "code",
   "execution_count": 24,
   "id": "2124136c-0ebc-40bd-8604-544367249ffa",
   "metadata": {},
   "outputs": [
    {
     "name": "stdout",
     "output_type": "stream",
     "text": [
      "{'Name': 'Mehvish', 'Depart': 'BCS', 'Batch': 2014}\n",
      "{'Name': 'Mehvish', 'Depart': 'BCS'}\n"
     ]
    }
   ],
   "source": [
    "dict = {'Name': \"Mehvish\",'Depart':\"BCS\", 'Batch' : 2014}\n",
    "print (dict)\n",
    "\n",
    "del dict['Batch'] #delete dictionary element 'Batch'\n",
    "print (dict)"
   ]
  },
  {
   "cell_type": "code",
   "execution_count": 25,
   "id": "18a1d838-3aaf-40f0-86e4-1ff24a29b4fc",
   "metadata": {},
   "outputs": [
    {
     "name": "stdout",
     "output_type": "stream",
     "text": [
      "('Math', '98', 'C programming', '99')\n",
      "98\n",
      "('98', 'C programming')\n"
     ]
    }
   ],
   "source": [
    "#Tuples\n",
    "tup = ( 'Math', '98', 'C programming','99')\n",
    "print (tup)\n",
    "\n",
    "print(tup[1])\n",
    "print(tup[1:3]) #print function used to print  elements at index [1:3]\n"
   ]
  },
  {
   "cell_type": "code",
   "execution_count": 26,
   "id": "585c2ace-22f4-46c2-86ee-53f6cdfc41cd",
   "metadata": {},
   "outputs": [
    {
     "name": "stdout",
     "output_type": "stream",
     "text": [
      "(12, 34.56, 'abc', 'xyz')\n"
     ]
    }
   ],
   "source": [
    "tup1 = (12,34.56); \n",
    "tup2 = ('abc','xyz'); \n",
    "\n",
    "#Following action is not valid for tuples \n",
    "#tup1[0] = 100\n",
    "#So let's create a new tuple as follows \n",
    "tup3 = tup1 + tup2\n",
    "print (tup3);"
   ]
  },
  {
   "cell_type": "code",
   "execution_count": 27,
   "id": "2afaa6f8-5bc9-4a37-8be9-1345d3c9b88c",
   "metadata": {},
   "outputs": [
    {
     "name": "stdout",
     "output_type": "stream",
     "text": [
      "('Math', '98', 'C programming', '99')\n",
      "After deleting tup : \n"
     ]
    },
    {
     "ename": "NameError",
     "evalue": "name 'tup' is not defined",
     "output_type": "error",
     "traceback": [
      "\u001b[1;31m---------------------------------------------------------------------------\u001b[0m",
      "\u001b[1;31mNameError\u001b[0m                                 Traceback (most recent call last)",
      "Cell \u001b[1;32mIn[27], line 5\u001b[0m\n\u001b[0;32m      3\u001b[0m \u001b[38;5;28;01mdel\u001b[39;00m tup;\n\u001b[0;32m      4\u001b[0m \u001b[38;5;28mprint\u001b[39m (\u001b[38;5;124m\"\u001b[39m\u001b[38;5;124mAfter deleting tup : \u001b[39m\u001b[38;5;124m\"\u001b[39m);\n\u001b[1;32m----> 5\u001b[0m \u001b[38;5;28mprint\u001b[39m (tup);\n\u001b[0;32m      7\u001b[0m \u001b[38;5;66;03m#Name error will come up due to 'del tup' as it removed the tuple entirely.\u001b[39;00m\n\u001b[0;32m      9\u001b[0m tup \u001b[38;5;241m=\u001b[39m (\u001b[38;5;124m'\u001b[39m\u001b[38;5;124mphysics\u001b[39m\u001b[38;5;124m'\u001b[39m, \u001b[38;5;124m'\u001b[39m\u001b[38;5;124mchemistry\u001b[39m\u001b[38;5;124m'\u001b[39m, \u001b[38;5;241m1997\u001b[39m, \u001b[38;5;241m2000\u001b[39m)\n",
      "\u001b[1;31mNameError\u001b[0m: name 'tup' is not defined"
     ]
    }
   ],
   "source": [
    "up = ('physics', 'chemistry', 1997,2000); \n",
    "print (tup); \n",
    "del tup;\n",
    "print (\"After deleting tup : \");\n",
    "print (tup);\n",
    "\n",
    "#Name error will come up due to 'del tup' as it removed the tuple entirely.\n",
    "\n",
    "tup = ('physics', 'chemistry', 1997, 2000)\n",
    "print(tup)\n",
    "del tup\n",
    "print(\"After deleting tup : \")\n"
   ]
  },
  {
   "cell_type": "code",
   "execution_count": null,
   "id": "4b96bf78-d4e8-4a63-95f6-27de8494a4b5",
   "metadata": {},
   "outputs": [],
   "source": [
    "#Sets\n",
    "#lists\n",
    "list1 = [1,2,3,4,5]\n",
    "\n",
    "print (type(list1))\n",
    "\n",
    "my_set = set(list1)\n",
    "\n",
    "print(my_set) \n",
    "print(type(my_set))\n",
    "\n",
    "#set of integers\n",
    "my_set = {1,2,3}\n",
    "print (my_set)\n",
    "\n",
    "#set of mixed data type \n",
    "my_set = {1,\"Hello\",1.2,'C'}\n",
    "#adding a single value / item\n",
    "my_set.add('D') \n",
    "#adding multiple values\n",
    "my_set.update(list1)\n",
    "print(my_set)\n",
    "\n",
    "my_set.discard('G') #will not raise error as it is used remove something quietly without any feedback.\n",
    "my_set.remove('G') #it will raise 'key error' if 'G' is not found  "
   ]
  },
  {
   "cell_type": "code",
   "execution_count": null,
   "id": "521c7554-3f04-4f20-bc1b-9872a9901210",
   "metadata": {},
   "outputs": [],
   "source": [
    "#Comparision Operators\n",
    "1<3 #gives result in boolean 'true / false'"
   ]
  },
  {
   "cell_type": "code",
   "execution_count": null,
   "id": "8fb279c7-4920-4b93-96b0-d749493a5337",
   "metadata": {},
   "outputs": [],
   "source": [
    "15 <= 23 "
   ]
  },
  {
   "cell_type": "code",
   "execution_count": 28,
   "id": "25feea99-f9a1-464e-a5ea-9d0e1a4a6ad6",
   "metadata": {},
   "outputs": [
    {
     "data": {
      "text/plain": [
       "False"
      ]
     },
     "execution_count": 28,
     "metadata": {},
     "output_type": "execute_result"
    }
   ],
   "source": [
    "'Mehvish' == \"Zeenat\""
   ]
  },
  {
   "cell_type": "code",
   "execution_count": 29,
   "id": "4a78c7b8-e010-4e80-afcd-4c5f0e566eba",
   "metadata": {},
   "outputs": [
    {
     "data": {
      "text/plain": [
       "False"
      ]
     },
     "execution_count": 29,
     "metadata": {},
     "output_type": "execute_result"
    }
   ],
   "source": [
    "\"Mehvish\" != \"Mehvish\" "
   ]
  },
  {
   "cell_type": "code",
   "execution_count": 30,
   "id": "9f45a817-c939-40f1-a454-613623f8148b",
   "metadata": {},
   "outputs": [
    {
     "data": {
      "text/plain": [
       "True"
      ]
     },
     "execution_count": 30,
     "metadata": {},
     "output_type": "execute_result"
    }
   ],
   "source": [
    "(1==1)or(5>2)"
   ]
  },
  {
   "cell_type": "code",
   "execution_count": 31,
   "id": "b190c101-f758-4b40-854c-30f878735425",
   "metadata": {},
   "outputs": [
    {
     "data": {
      "text/plain": [
       "False"
      ]
     },
     "execution_count": 31,
     "metadata": {},
     "output_type": "execute_result"
    }
   ],
   "source": [
    "(1<2)and(2<1)"
   ]
  },
  {
   "cell_type": "code",
   "execution_count": 32,
   "id": "a8ded8ac-dd52-499d-bfd1-d39b97ae4659",
   "metadata": {},
   "outputs": [
    {
     "name": "stdout",
     "output_type": "stream",
     "text": [
      "Even\n"
     ]
    }
   ],
   "source": [
    "# IF Else Statements\n",
    "#if-else statement \n",
    "if 25 % 2: \n",
    "    print('Even')\n",
    "else:\n",
    "    print ('Odd')"
   ]
  },
  {
   "cell_type": "code",
   "execution_count": 33,
   "id": "9b0feef4-54b4-44ee-a913-7f775323d64f",
   "metadata": {},
   "outputs": [
    {
     "name": "stdout",
     "output_type": "stream",
     "text": [
      "120\n"
     ]
    }
   ],
   "source": [
    "#For and while Loop\n",
    "#example of for loop\n",
    "fact = 1 \n",
    "N = 5 #finding the factorial of 5\n",
    "for i in range (1,N+1): #loop from 1 to 5\n",
    "    fact*=i\n",
    "\n",
    "print (fact)"
   ]
  },
  {
   "cell_type": "code",
   "execution_count": 34,
   "id": "87aec739-4175-4df4-a69a-6301afd1b229",
   "metadata": {},
   "outputs": [
    {
     "name": "stdout",
     "output_type": "stream",
     "text": [
      "1\n",
      "2\n",
      "3\n",
      "4\n",
      "5\n",
      "6\n",
      "7\n",
      "8\n",
      "9\n",
      "10\n"
     ]
    }
   ],
   "source": [
    "#example of while loop \n",
    "a = 0 \n",
    "while a < 10:\n",
    "    a = a+1\n",
    "    print (a)"
   ]
  },
  {
   "cell_type": "code",
   "execution_count": 35,
   "id": "fff1403e-3c3a-4fe8-8389-50138dd63703",
   "metadata": {},
   "outputs": [
    {
     "name": "stdout",
     "output_type": "stream",
     "text": [
      "I'm first call to user defined function!\n"
     ]
    }
   ],
   "source": [
    "# Function definition is here\n",
    "def printme(str): \n",
    "    # This prints a passed string into this function \n",
    "    print(str) \n",
    "    return   #\n",
    "\n",
    "# Now you can call printme function \n",
    "printme(\"I'm first call to user defined function!\") "
   ]
  },
  {
   "cell_type": "code",
   "execution_count": 36,
   "id": "f655ab33-1671-49c1-a032-c18391461e48",
   "metadata": {},
   "outputs": [
    {
     "name": "stdout",
     "output_type": "stream",
     "text": [
      "64\n"
     ]
    }
   ],
   "source": [
    "#lambda functions\n",
    "#normal function \n",
    "def f (x):\n",
    "    return x**2 #normal function have return statment \n",
    "print (f(8)) "
   ]
  },
  {
   "cell_type": "code",
   "execution_count": 37,
   "id": "dfbcbeac-700c-4db3-b6ec-ef88bd290b18",
   "metadata": {},
   "outputs": [
    {
     "data": {
      "text/plain": [
       "30"
      ]
     },
     "execution_count": 37,
     "metadata": {},
     "output_type": "execute_result"
    }
   ],
   "source": [
    "#lambda Function\n",
    "#lambda expression\n",
    "times3 = lambda var:var*3 #creates a function that multiplies input by 3\n",
    "times3 (10) # runs the funtion with 10 as input \n"
   ]
  },
  {
   "cell_type": "code",
   "execution_count": 38,
   "id": "f33d6bc5-b542-480e-a6eb-23d800a1effe",
   "metadata": {},
   "outputs": [
    {
     "name": "stdout",
     "output_type": "stream",
     "text": [
      "['It', 'is', 'raining', 'cats', 'and', 'dogs']\n"
     ]
    },
    {
     "data": {
      "text/plain": [
       "[2, 2, 7, 4, 3, 4]"
      ]
     },
     "execution_count": 38,
     "metadata": {},
     "output_type": "execute_result"
    }
   ],
   "source": [
    "#Map () funtion used with two arguments; name of the funtion and sequence\n",
    "\n",
    "sentence = 'It is raining cats and dogs' \n",
    "word = sentence.split() # use of split function to split words from the sentence\n",
    "print (word)\n",
    "\n",
    "lengths = map(lambda word: len(word), word) #map applies lambda function to each item in word\n",
    "list(lengths)"
   ]
  },
  {
   "cell_type": "code",
   "execution_count": 39,
   "id": "3b0cbd56-9391-42c4-9800-7d7b7501cee6",
   "metadata": {},
   "outputs": [
    {
     "data": {
      "text/plain": [
       "[1, 1, 3, 5, 13, 21, 55]"
      ]
     },
     "execution_count": 39,
     "metadata": {},
     "output_type": "execute_result"
    }
   ],
   "source": [
    "#Filter()\n",
    "fib = [0,1,1,2,3,5,8,13,21,34,55] # list of fibbonacci numbers\n",
    "result1 = filter(lambda x: x% 2,fib) # filter() will keep only the elements for which the lambda returns True\n",
    "\n",
    "list(result1)"
   ]
  },
  {
   "cell_type": "code",
   "execution_count": 40,
   "id": "61f862e2-4f76-44bd-8052-d4cb3ed0e5b2",
   "metadata": {},
   "outputs": [
    {
     "data": {
      "text/plain": [
       "[0, 2, 8, 34]"
      ]
     },
     "execution_count": 40,
     "metadata": {},
     "output_type": "execute_result"
    }
   ],
   "source": [
    "fib = [0,1,1,2,3,5,8,13,21,34,55]\n",
    "result2 = filter(lambda x: x % 2 == 0,fib)\n",
    "list (result2)"
   ]
  },
  {
   "cell_type": "code",
   "execution_count": 41,
   "id": "145859d3-e7da-4b7d-8ca3-0b652f4cb90b",
   "metadata": {},
   "outputs": [
    {
     "name": "stdin",
     "output_type": "stream",
     "text": [
      "Enter your name:  Mevish\n"
     ]
    },
    {
     "name": "stdout",
     "output_type": "stream",
     "text": [
      "Mevish\n"
     ]
    }
   ],
   "source": [
    "#File I/O\n",
    "from six.moves import input\n",
    "string = input(\"Enter your name: \"); #prompts the user to enter their name, stores it in the variable as `string`\n",
    "print(string)"
   ]
  },
  {
   "cell_type": "code",
   "execution_count": 42,
   "id": "91d01d0e-bb4c-4de1-96f7-b0c1f684caaa",
   "metadata": {},
   "outputs": [],
   "source": [
    "#I/O from ot to Text File\n",
    "\n",
    "fileOpen = open(\"file.txt\", \"w\")  # 'w' mode creates or overwrites the file\n",
    "fileOpen.write(\"Name: Mehvish Ashiq\\nDepartment: BSCS\")\n",
    "fileOpen.close()"
   ]
  },
  {
   "cell_type": "code",
   "execution_count": 43,
   "id": "ae1d303c-4a06-4e64-be07-3981bc1d68cd",
   "metadata": {},
   "outputs": [
    {
     "name": "stdout",
     "output_type": "stream",
     "text": [
      "Name: Mehvish Ashiq\n",
      "Department: BSCS\n"
     ]
    }
   ],
   "source": [
    "fileOpen = open(\"file.txt\", \"r+\")\n",
    "str = fileOpen.read()  #to read specific content from start you can use read(12). It will read 12 characters from the start of file\n",
    "print(str)\n",
    "fileOpen.close()"
   ]
  },
  {
   "cell_type": "code",
   "execution_count": 44,
   "id": "ddd09e0c-82e8-45c5-b00e-90e85cfa9db2",
   "metadata": {},
   "outputs": [
    {
     "name": "stdout",
     "output_type": "stream",
     "text": [
      "Name: Mehvish Ashiq\n",
      "Department: BSCS Information Technology Lahore\n"
     ]
    }
   ],
   "source": [
    "# Open a file to append \n",
    "#a+ opens file in append and read mode\n",
    "fileOpen = open(\"file.txt\", \"a+\") \n",
    "fileOpen.write(\" Information Technology Lahore\"); \n",
    "fileOpen.close() \n",
    "# Open a file to read using 'r+'\n",
    "fileOpen = open(\"file.txt\", \"r+\") \n",
    "string = fileOpen.read(); #to read specific content from start you can use read(12). It will read 12 characters from the start of file \n",
    "print (string) \n",
    "# Close opend file \n",
    "fileOpen.close() "
   ]
  },
  {
   "cell_type": "code",
   "execution_count": 45,
   "id": "1da961d2-a6fc-4568-8d23-f5caf17cd891",
   "metadata": {},
   "outputs": [
    {
     "name": "stdout",
     "output_type": "stream",
     "text": [
      "Read String is:\n",
      " Name: Mehv\n",
      "Current file position:\n",
      " 10\n",
      "Again read String is:\n",
      " Name: Mehv\n"
     ]
    }
   ],
   "source": [
    "# Open a file using 'r+' (read & write mode)\n",
    "fo = open(\"file.txt\", \"r+\")\n",
    "\n",
    "# Read the first 10 characters\n",
    "str = fo.read(10)\n",
    "print(\"Read String is:\\n\", str)\n",
    "# Check current position using 'tell()'\n",
    "position = fo.tell()\n",
    "print(\"Current file position:\\n\", position)\n",
    "# Reposition pointer at the beginning using 'seek(0, 0)'\n",
    "fo.seek(0, 0)\n",
    "# Read again from the beginning\n",
    "str = fo.read(10)\n",
    "print(\"Again read String is:\\n\", str)\n",
    "# Close opened file\n",
    "fo.close()\n"
   ]
  },
  {
   "cell_type": "code",
   "execution_count": 46,
   "id": "9865fcae-b7be-4306-a46e-b6c6aa09e118",
   "metadata": {},
   "outputs": [],
   "source": [
    "import os\n",
    "# renameafile\n",
    "os.rename(\"file.txt\",\"newfile.txt\")"
   ]
  },
  {
   "cell_type": "code",
   "execution_count": 47,
   "id": "e68a8d9b-277d-408e-a3b9-18daf5621e61",
   "metadata": {},
   "outputs": [],
   "source": [
    "#remove file \n",
    "os.remove(\"newfile.txt\")"
   ]
  },
  {
   "cell_type": "code",
   "execution_count": 48,
   "id": "d99cdf35-97c6-4848-806f-7a6dc8b7b257",
   "metadata": {},
   "outputs": [
    {
     "name": "stdout",
     "output_type": "stream",
     "text": [
      "a    0.965519\n",
      "b   -0.763980\n",
      "c   -0.322033\n",
      "d   -1.662537\n",
      "e    3.185136\n",
      "dtype: float64\n"
     ]
    }
   ],
   "source": [
    "# Series\n",
    "# From ndarray \n",
    "import pandas as pd\n",
    "import numpy as np\n",
    "import matplotlib.pyplot as plt\n",
    "\n",
    "\"\"\"following a fucntion is called from pandas to create a series. \n",
    "data would be 5 random values and indexes are assigned a-e\"\"\"\n",
    "\n",
    "s = pd.Series(np.random.randn(5), index=['a','b','c','d','e'])\n",
    "print(s)"
   ]
  },
  {
   "cell_type": "code",
   "execution_count": 49,
   "id": "e9bc1c76-4b5d-4dd0-866d-1fca9e9a7b45",
   "metadata": {},
   "outputs": [
    {
     "data": {
      "text/plain": [
       "a    0.0\n",
       "b    1.0\n",
       "c    2.0\n",
       "dtype: float64"
      ]
     },
     "execution_count": 49,
     "metadata": {},
     "output_type": "execute_result"
    }
   ],
   "source": [
    "\"\"\" In following example, indexes are not given to it is constructed from the sorted keys of the dict\"\"\" \n",
    "d = {'a' : 0., 'b' : 1., 'c' : 2.} # a python dict\n",
    "pd.Series(d) # Converts the dictionary into a pandas Series"
   ]
  },
  {
   "cell_type": "code",
   "execution_count": 50,
   "id": "99fc9690-7b2f-4d50-901a-3235a9ba2ef8",
   "metadata": {},
   "outputs": [
    {
     "data": {
      "text/plain": [
       "b    1.0\n",
       "c    2.0\n",
       "d    NaN\n",
       "a    0.0\n",
       "dtype: float64"
      ]
     },
     "execution_count": 50,
     "metadata": {},
     "output_type": "execute_result"
    }
   ],
   "source": [
    "#from a scalar value \n",
    "\"\"\" In following example, index are given, so the values in data corresponding in the index will be pulled out.\"\"\" \n",
    "pd.Series(d, index=['b', 'c', 'd', 'a']) #creates a Series with a custom index list"
   ]
  },
  {
   "cell_type": "code",
   "execution_count": 51,
   "id": "dccfc533-f976-46c8-9d05-54c4dab367a3",
   "metadata": {},
   "outputs": [
    {
     "data": {
      "text/plain": [
       "a    5.0\n",
       "b    5.0\n",
       "c    5.0\n",
       "d    5.0\n",
       "e    5.0\n",
       "dtype: float64"
      ]
     },
     "execution_count": 51,
     "metadata": {},
     "output_type": "execute_result"
    }
   ],
   "source": [
    "\"\"\"In following example, a scalar value is given as data so it will be repeated to match the length of index\"\"\"\n",
    "pd.Series(5., index=['a', 'b', 'c', 'd', 'e'])  #creates a series with scalar value 5.0 and 5 index labels"
   ]
  },
  {
   "cell_type": "code",
   "execution_count": 52,
   "id": "2e8664eb-3a6a-4265-a827-265cb5bac849",
   "metadata": {},
   "outputs": [
    {
     "name": "stderr",
     "output_type": "stream",
     "text": [
      "C:\\Users\\H.H\\AppData\\Local\\Temp\\ipykernel_3192\\243613605.py:1: FutureWarning: Series.__getitem__ treating keys as positions is deprecated. In a future version, integer keys will always be treated as labels (consistent with DataFrame behavior). To access a value by position, use `ser.iloc[pos]`\n",
      "  s[0]\n"
     ]
    },
    {
     "data": {
      "text/plain": [
       "np.float64(0.96551919138016)"
      ]
     },
     "execution_count": 52,
     "metadata": {},
     "output_type": "execute_result"
    }
   ],
   "source": [
    "s[0]"
   ]
  },
  {
   "cell_type": "code",
   "execution_count": 53,
   "id": "22353f8f-df4f-48f6-a1d6-91cf51bfb6d0",
   "metadata": {},
   "outputs": [
    {
     "data": {
      "text/plain": [
       "a    0.965519\n",
       "b   -0.763980\n",
       "c   -0.322033\n",
       "d   -1.662537\n",
       "e    3.185136\n",
       "dtype: float64"
      ]
     },
     "execution_count": 53,
     "metadata": {},
     "output_type": "execute_result"
    }
   ],
   "source": [
    "#access range of values\n",
    "s[:5]"
   ]
  },
  {
   "cell_type": "code",
   "execution_count": 54,
   "id": "95fefaba-ea68-4cb7-9bb9-382c07b28f77",
   "metadata": {},
   "outputs": [
    {
     "data": {
      "text/plain": [
       "a    0.965519\n",
       "e    3.185136\n",
       "dtype: float64"
      ]
     },
     "execution_count": 54,
     "metadata": {},
     "output_type": "execute_result"
    }
   ],
   "source": [
    "\"\"\" Following example will return a range of values in series whose value is greater than the median of serie \n",
    "s\"\"\" \n",
    "s[s > s.median()] "
   ]
  },
  {
   "cell_type": "code",
   "execution_count": 55,
   "id": "8cb48930-05e7-4178-9409-45ece1daaf32",
   "metadata": {},
   "outputs": [
    {
     "name": "stderr",
     "output_type": "stream",
     "text": [
      "C:\\Users\\H.H\\AppData\\Local\\Temp\\ipykernel_3192\\2826670177.py:3: FutureWarning: Series.__getitem__ treating keys as positions is deprecated. In a future version, integer keys will always be treated as labels (consistent with DataFrame behavior). To access a value by position, use `ser.iloc[pos]`\n",
      "  s[[4, 3, 1]]\n"
     ]
    },
    {
     "data": {
      "text/plain": [
       "e    3.185136\n",
       "d   -1.662537\n",
       "b   -0.763980\n",
       "dtype: float64"
      ]
     },
     "execution_count": 55,
     "metadata": {},
     "output_type": "execute_result"
    }
   ],
   "source": [
    "\"\"\"Following example is return the values in series with indexes. 4,3,1 are the positions of the index\n",
    "For example: the index at 4,3,1 are e,d,b respectively\"\"\" \n",
    "s[[4, 3, 1]]"
   ]
  },
  {
   "cell_type": "code",
   "execution_count": 56,
   "id": "3930e93e-a897-4d2d-99a0-bccc37ceb3da",
   "metadata": {},
   "outputs": [
    {
     "data": {
      "text/plain": [
       "a     2.626151\n",
       "b     0.465809\n",
       "c     0.724674\n",
       "d     0.189657\n",
       "e    24.170578\n",
       "dtype: float64"
      ]
     },
     "execution_count": 56,
     "metadata": {},
     "output_type": "execute_result"
    }
   ],
   "source": [
    "\"\"\" Following example returns the exponent values. just like e^a (here a is index and its respective data is \n",
    "placed here)\"\"\" \n",
    "np.exp(s)"
   ]
  },
  {
   "cell_type": "code",
   "execution_count": 57,
   "id": "c52ee903-9c22-4330-882c-4dca2e3cbaee",
   "metadata": {},
   "outputs": [
    {
     "data": {
      "text/plain": [
       "a     0.965519\n",
       "b    -0.763980\n",
       "c    -0.322033\n",
       "d    -1.662537\n",
       "e    12.000000\n",
       "dtype: float64"
      ]
     },
     "execution_count": 57,
     "metadata": {},
     "output_type": "execute_result"
    }
   ],
   "source": [
    "\"\"\"Following example will update the data of the given index\"\"\" \n",
    "s['e'] = 12. \n",
    "s # before updating e = 1.399281 but after updating e = 12.0000"
   ]
  },
  {
   "cell_type": "code",
   "execution_count": 58,
   "id": "f5a33163-658a-43ae-ae4b-950337f34d81",
   "metadata": {},
   "outputs": [
    {
     "data": {
      "text/plain": [
       "np.float64(0.96551919138016)"
      ]
     },
     "execution_count": 58,
     "metadata": {},
     "output_type": "execute_result"
    }
   ],
   "source": [
    "s['a']"
   ]
  },
  {
   "cell_type": "code",
   "execution_count": 59,
   "id": "48657c79-db4d-41bc-90c3-0e5e43fa1260",
   "metadata": {},
   "outputs": [
    {
     "data": {
      "text/plain": [
       "a     0.965519\n",
       "b    -0.763980\n",
       "c    -0.322033\n",
       "d    -1.662537\n",
       "e    12.000000\n",
       "dtype: float64"
      ]
     },
     "execution_count": 59,
     "metadata": {},
     "output_type": "execute_result"
    }
   ],
   "source": [
    "\"\"\"Following example will update the data of the given index\"\"\" \n",
    "s['e'] = 12. \n",
    "s # before updating e = 1.399281 but after updating e = 12.0000"
   ]
  },
  {
   "cell_type": "code",
   "execution_count": 60,
   "id": "fc27f34c-b607-46b4-b726-a84b0e52013a",
   "metadata": {},
   "outputs": [
    {
     "data": {
      "text/plain": [
       "True"
      ]
     },
     "execution_count": 60,
     "metadata": {},
     "output_type": "execute_result"
    }
   ],
   "source": [
    "\"\"\" Following will return true if 'e' is in the values of index otherwise false\"\"\" \n",
    "'e' in s  #gives result in boolean"
   ]
  },
  {
   "cell_type": "code",
   "execution_count": 61,
   "id": "ec829543-0bb0-4ca4-a670-0810804e07dd",
   "metadata": {},
   "outputs": [
    {
     "ename": "KeyError",
     "evalue": "'f'",
     "output_type": "error",
     "traceback": [
      "\u001b[1;31m---------------------------------------------------------------------------\u001b[0m",
      "\u001b[1;31mKeyError\u001b[0m                                  Traceback (most recent call last)",
      "File \u001b[1;32m~\\anaconda3\\Lib\\site-packages\\pandas\\core\\indexes\\base.py:3805\u001b[0m, in \u001b[0;36mIndex.get_loc\u001b[1;34m(self, key)\u001b[0m\n\u001b[0;32m   3804\u001b[0m \u001b[38;5;28;01mtry\u001b[39;00m:\n\u001b[1;32m-> 3805\u001b[0m     \u001b[38;5;28;01mreturn\u001b[39;00m \u001b[38;5;28mself\u001b[39m\u001b[38;5;241m.\u001b[39m_engine\u001b[38;5;241m.\u001b[39mget_loc(casted_key)\n\u001b[0;32m   3806\u001b[0m \u001b[38;5;28;01mexcept\u001b[39;00m \u001b[38;5;167;01mKeyError\u001b[39;00m \u001b[38;5;28;01mas\u001b[39;00m err:\n",
      "File \u001b[1;32mindex.pyx:167\u001b[0m, in \u001b[0;36mpandas._libs.index.IndexEngine.get_loc\u001b[1;34m()\u001b[0m\n",
      "File \u001b[1;32mindex.pyx:196\u001b[0m, in \u001b[0;36mpandas._libs.index.IndexEngine.get_loc\u001b[1;34m()\u001b[0m\n",
      "File \u001b[1;32mpandas\\\\_libs\\\\hashtable_class_helper.pxi:7081\u001b[0m, in \u001b[0;36mpandas._libs.hashtable.PyObjectHashTable.get_item\u001b[1;34m()\u001b[0m\n",
      "File \u001b[1;32mpandas\\\\_libs\\\\hashtable_class_helper.pxi:7089\u001b[0m, in \u001b[0;36mpandas._libs.hashtable.PyObjectHashTable.get_item\u001b[1;34m()\u001b[0m\n",
      "\u001b[1;31mKeyError\u001b[0m: 'f'",
      "\nThe above exception was the direct cause of the following exception:\n",
      "\u001b[1;31mKeyError\u001b[0m                                  Traceback (most recent call last)",
      "Cell \u001b[1;32mIn[61], line 2\u001b[0m\n\u001b[0;32m      1\u001b[0m \u001b[38;5;124;03m\"\"\"If a label is not contained and you are trying to access its data, an exception is raised: \"\"\"\u001b[39;00m \n\u001b[1;32m----> 2\u001b[0m s[\u001b[38;5;124m'\u001b[39m\u001b[38;5;124mf\u001b[39m\u001b[38;5;124m'\u001b[39m]\n",
      "File \u001b[1;32m~\\anaconda3\\Lib\\site-packages\\pandas\\core\\series.py:1121\u001b[0m, in \u001b[0;36mSeries.__getitem__\u001b[1;34m(self, key)\u001b[0m\n\u001b[0;32m   1118\u001b[0m     \u001b[38;5;28;01mreturn\u001b[39;00m \u001b[38;5;28mself\u001b[39m\u001b[38;5;241m.\u001b[39m_values[key]\n\u001b[0;32m   1120\u001b[0m \u001b[38;5;28;01melif\u001b[39;00m key_is_scalar:\n\u001b[1;32m-> 1121\u001b[0m     \u001b[38;5;28;01mreturn\u001b[39;00m \u001b[38;5;28mself\u001b[39m\u001b[38;5;241m.\u001b[39m_get_value(key)\n\u001b[0;32m   1123\u001b[0m \u001b[38;5;66;03m# Convert generator to list before going through hashable part\u001b[39;00m\n\u001b[0;32m   1124\u001b[0m \u001b[38;5;66;03m# (We will iterate through the generator there to check for slices)\u001b[39;00m\n\u001b[0;32m   1125\u001b[0m \u001b[38;5;28;01mif\u001b[39;00m is_iterator(key):\n",
      "File \u001b[1;32m~\\anaconda3\\Lib\\site-packages\\pandas\\core\\series.py:1237\u001b[0m, in \u001b[0;36mSeries._get_value\u001b[1;34m(self, label, takeable)\u001b[0m\n\u001b[0;32m   1234\u001b[0m     \u001b[38;5;28;01mreturn\u001b[39;00m \u001b[38;5;28mself\u001b[39m\u001b[38;5;241m.\u001b[39m_values[label]\n\u001b[0;32m   1236\u001b[0m \u001b[38;5;66;03m# Similar to Index.get_value, but we do not fall back to positional\u001b[39;00m\n\u001b[1;32m-> 1237\u001b[0m loc \u001b[38;5;241m=\u001b[39m \u001b[38;5;28mself\u001b[39m\u001b[38;5;241m.\u001b[39mindex\u001b[38;5;241m.\u001b[39mget_loc(label)\n\u001b[0;32m   1239\u001b[0m \u001b[38;5;28;01mif\u001b[39;00m is_integer(loc):\n\u001b[0;32m   1240\u001b[0m     \u001b[38;5;28;01mreturn\u001b[39;00m \u001b[38;5;28mself\u001b[39m\u001b[38;5;241m.\u001b[39m_values[loc]\n",
      "File \u001b[1;32m~\\anaconda3\\Lib\\site-packages\\pandas\\core\\indexes\\base.py:3812\u001b[0m, in \u001b[0;36mIndex.get_loc\u001b[1;34m(self, key)\u001b[0m\n\u001b[0;32m   3807\u001b[0m     \u001b[38;5;28;01mif\u001b[39;00m \u001b[38;5;28misinstance\u001b[39m(casted_key, \u001b[38;5;28mslice\u001b[39m) \u001b[38;5;129;01mor\u001b[39;00m (\n\u001b[0;32m   3808\u001b[0m         \u001b[38;5;28misinstance\u001b[39m(casted_key, abc\u001b[38;5;241m.\u001b[39mIterable)\n\u001b[0;32m   3809\u001b[0m         \u001b[38;5;129;01mand\u001b[39;00m \u001b[38;5;28many\u001b[39m(\u001b[38;5;28misinstance\u001b[39m(x, \u001b[38;5;28mslice\u001b[39m) \u001b[38;5;28;01mfor\u001b[39;00m x \u001b[38;5;129;01min\u001b[39;00m casted_key)\n\u001b[0;32m   3810\u001b[0m     ):\n\u001b[0;32m   3811\u001b[0m         \u001b[38;5;28;01mraise\u001b[39;00m InvalidIndexError(key)\n\u001b[1;32m-> 3812\u001b[0m     \u001b[38;5;28;01mraise\u001b[39;00m \u001b[38;5;167;01mKeyError\u001b[39;00m(key) \u001b[38;5;28;01mfrom\u001b[39;00m\u001b[38;5;250m \u001b[39m\u001b[38;5;21;01merr\u001b[39;00m\n\u001b[0;32m   3813\u001b[0m \u001b[38;5;28;01mexcept\u001b[39;00m \u001b[38;5;167;01mTypeError\u001b[39;00m:\n\u001b[0;32m   3814\u001b[0m     \u001b[38;5;66;03m# If we have a listlike key, _check_indexing_error will raise\u001b[39;00m\n\u001b[0;32m   3815\u001b[0m     \u001b[38;5;66;03m#  InvalidIndexError. Otherwise we fall through and re-raise\u001b[39;00m\n\u001b[0;32m   3816\u001b[0m     \u001b[38;5;66;03m#  the TypeError.\u001b[39;00m\n\u001b[0;32m   3817\u001b[0m     \u001b[38;5;28mself\u001b[39m\u001b[38;5;241m.\u001b[39m_check_indexing_error(key)\n",
      "\u001b[1;31mKeyError\u001b[0m: 'f'"
     ]
    }
   ],
   "source": [
    "\"\"\"If a label is not contained and you are trying to access its data, an exception is raised: \"\"\" \n",
    "s['f'] \n",
    "# This will create error because f is not in the given data"
   ]
  },
  {
   "cell_type": "code",
   "execution_count": 62,
   "id": "61bdb0ab-771a-4812-8bb7-d174151a7756",
   "metadata": {},
   "outputs": [
    {
     "data": {
      "text/plain": [
       "nan"
      ]
     },
     "execution_count": 62,
     "metadata": {},
     "output_type": "execute_result"
    }
   ],
   "source": [
    "#to fix the above data\n",
    "\"\"\"Using the get method, a missing label will return None or specified default\"\"\" \n",
    "s.get('f') #it will return none\n",
    "s.get('f', np.nan) #it will return default value, instead of error it will return NaN"
   ]
  },
  {
   "cell_type": "code",
   "execution_count": 63,
   "id": "41b5e1b8-94e6-4c8e-b25d-3f7f69245ffc",
   "metadata": {},
   "outputs": [
    {
     "data": {
      "text/plain": [
       "a     1.931038\n",
       "b    -1.527960\n",
       "c    -0.644066\n",
       "d    -3.325075\n",
       "e    24.000000\n",
       "dtype: float64"
      ]
     },
     "execution_count": 63,
     "metadata": {},
     "output_type": "execute_result"
    }
   ],
   "source": [
    "#vectorized operations and label alignment with series\n",
    "\"\"\"following will add the data of respective values of indexes. For example, in given output, it is calculated as:\n",
    " a = s['a'] +\n",
    " s['a'] b = s['b'] +\n",
    " s['b'] c = s['c'] +\n",
    " s['c'] d = s['d'] +\n",
    " s['d'] e = s['e'] +\n",
    " s['e'] \n",
    "\"\"\" \n",
    "s + s # element is added to itself based on matching index"
   ]
  },
  {
   "cell_type": "code",
   "execution_count": 64,
   "id": "ac103c6d-4219-4b02-8963-26811429ced8",
   "metadata": {},
   "outputs": [
    {
     "data": {
      "text/plain": [
       "a     1.931038\n",
       "b    -1.527960\n",
       "c    -0.644066\n",
       "d    -3.325075\n",
       "e    24.000000\n",
       "dtype: float64"
      ]
     },
     "execution_count": 64,
     "metadata": {},
     "output_type": "execute_result"
    }
   ],
   "source": [
    "\"\"\"following will multiply the data of each values of indexes, with 2. For example, in given output, it is ca \n",
    "lculated as: \n",
    "a = s['a'] *2\n",
    "b = s['b'] *2\n",
    "c = s['c'] *2\n",
    "d = s['d'] *2 \n",
    "e = s['e'] *2\"\"\" \n",
    "s * 2  #element operation with scalar (2). each value is multiplied individually in the series"
   ]
  },
  {
   "cell_type": "code",
   "execution_count": 65,
   "id": "fcb8b22f-79d2-410b-9fd4-aa7e77a3419c",
   "metadata": {},
   "outputs": [
    {
     "name": "stdout",
     "output_type": "stream",
     "text": [
      "0   -0.399036\n",
      "1    0.182071\n",
      "2   -0.610641\n",
      "3   -0.436696\n",
      "4    1.268261\n",
      "Name: something, dtype: float64\n"
     ]
    }
   ],
   "source": [
    "s = pd.Series(np.random.randn(5), name='something') \n",
    "print(s)"
   ]
  },
  {
   "cell_type": "code",
   "execution_count": 66,
   "id": "e1490028-6e85-4741-80b5-cbe57c925661",
   "metadata": {},
   "outputs": [
    {
     "data": {
      "text/plain": [
       "'different'"
      ]
     },
     "execution_count": 66,
     "metadata": {},
     "output_type": "execute_result"
    }
   ],
   "source": [
    "#rename the series name attribute and assign to s2 object. Note that s and s2 refer to different objects. \n",
    "s2 = s.rename(\"different\") \n",
    "s2.name "
   ]
  },
  {
   "cell_type": "code",
   "execution_count": 67,
   "id": "14f6dd92-4f0c-445b-8159-ec6d8f1d6e32",
   "metadata": {},
   "outputs": [
    {
     "name": "stdout",
     "output_type": "stream",
     "text": [
      "   one  two\n",
      "a  1.0  1.0\n",
      "b  2.0  2.0\n",
      "c  3.0  3.0\n",
      "d  NaN  4.0\n"
     ]
    },
    {
     "data": {
      "text/plain": [
       "'create a dataframe. row label will be the indes of a series. As coloum labels are not given so it \\nwill be sorted list of dict keys'"
      ]
     },
     "execution_count": 67,
     "metadata": {},
     "output_type": "execute_result"
    }
   ],
   "source": [
    "# DataFrames #from dict of Series or dicts \n",
    "\n",
    "\"\"\" A dict is created \"\"\"\n",
    "d = { \n",
    "'one' : pd.Series([1., 2., 3.], index=['a', 'b', 'c']),\n",
    "'two' : pd.Series([1., 2., 3., 4.], index=['a', 'b', 'c', 'd'])\n",
    "} \n",
    "df=pd.DataFrame(d) \n",
    "print(df)\n",
    "\"\"\"create a dataframe. row label will be the indes of a series. As coloum labels are not given so it \n",
    "will be sorted list of dict keys\"\"\" "
   ]
  },
  {
   "cell_type": "code",
   "execution_count": 68,
   "id": "e7a69744-3725-4340-b66f-0036a5b97900",
   "metadata": {},
   "outputs": [
    {
     "data": {
      "text/html": [
       "<div>\n",
       "<style scoped>\n",
       "    .dataframe tbody tr th:only-of-type {\n",
       "        vertical-align: middle;\n",
       "    }\n",
       "\n",
       "    .dataframe tbody tr th {\n",
       "        vertical-align: top;\n",
       "    }\n",
       "\n",
       "    .dataframe thead th {\n",
       "        text-align: right;\n",
       "    }\n",
       "</style>\n",
       "<table border=\"1\" class=\"dataframe\">\n",
       "  <thead>\n",
       "    <tr style=\"text-align: right;\">\n",
       "      <th></th>\n",
       "      <th>one</th>\n",
       "      <th>two</th>\n",
       "    </tr>\n",
       "  </thead>\n",
       "  <tbody>\n",
       "    <tr>\n",
       "      <th>d</th>\n",
       "      <td>NaN</td>\n",
       "      <td>4.0</td>\n",
       "    </tr>\n",
       "    <tr>\n",
       "      <th>b</th>\n",
       "      <td>2.0</td>\n",
       "      <td>2.0</td>\n",
       "    </tr>\n",
       "    <tr>\n",
       "      <th>a</th>\n",
       "      <td>1.0</td>\n",
       "      <td>1.0</td>\n",
       "    </tr>\n",
       "  </tbody>\n",
       "</table>\n",
       "</div>"
      ],
      "text/plain": [
       "   one  two\n",
       "d  NaN  4.0\n",
       "b  2.0  2.0\n",
       "a  1.0  1.0"
      ]
     },
     "execution_count": 68,
     "metadata": {},
     "output_type": "execute_result"
    }
   ],
   "source": [
    "\"\"\" a data frame will be constructed for given row labels\"\"\"\n",
    "pd.DataFrame(d, index=['d', 'b', 'a'])"
   ]
  },
  {
   "cell_type": "code",
   "execution_count": 69,
   "id": "567872f5-a9c4-4575-b817-89174177056f",
   "metadata": {},
   "outputs": [
    {
     "data": {
      "text/html": [
       "<div>\n",
       "<style scoped>\n",
       "    .dataframe tbody tr th:only-of-type {\n",
       "        vertical-align: middle;\n",
       "    }\n",
       "\n",
       "    .dataframe tbody tr th {\n",
       "        vertical-align: top;\n",
       "    }\n",
       "\n",
       "    .dataframe thead th {\n",
       "        text-align: right;\n",
       "    }\n",
       "</style>\n",
       "<table border=\"1\" class=\"dataframe\">\n",
       "  <thead>\n",
       "    <tr style=\"text-align: right;\">\n",
       "      <th></th>\n",
       "      <th>two</th>\n",
       "      <th>three</th>\n",
       "    </tr>\n",
       "  </thead>\n",
       "  <tbody>\n",
       "    <tr>\n",
       "      <th>d</th>\n",
       "      <td>4.0</td>\n",
       "      <td>NaN</td>\n",
       "    </tr>\n",
       "    <tr>\n",
       "      <th>b</th>\n",
       "      <td>2.0</td>\n",
       "      <td>NaN</td>\n",
       "    </tr>\n",
       "    <tr>\n",
       "      <th>a</th>\n",
       "      <td>1.0</td>\n",
       "      <td>NaN</td>\n",
       "    </tr>\n",
       "  </tbody>\n",
       "</table>\n",
       "</div>"
      ],
      "text/plain": [
       "   two three\n",
       "d  4.0   NaN\n",
       "b  2.0   NaN\n",
       "a  1.0   NaN"
      ]
     },
     "execution_count": 69,
     "metadata": {},
     "output_type": "execute_result"
    }
   ],
   "source": [
    "\"\"\"following example shows a data frame when we give coloumn labels\"\"\"\n",
    "pd.DataFrame(d, index=['d', 'b', 'a'], columns=['two', 'three'])"
   ]
  },
  {
   "cell_type": "code",
   "execution_count": 70,
   "id": "935c053f-4425-4984-a732-47466a91e534",
   "metadata": {},
   "outputs": [
    {
     "data": {
      "text/plain": [
       "Index(['one', 'two'], dtype='object')"
      ]
     },
     "execution_count": 70,
     "metadata": {},
     "output_type": "execute_result"
    }
   ],
   "source": [
    "df.columns"
   ]
  },
  {
   "cell_type": "code",
   "execution_count": 71,
   "id": "a3797728-05cc-4769-8cd5-0ad57b5f37ce",
   "metadata": {},
   "outputs": [
    {
     "data": {
      "text/html": [
       "<div>\n",
       "<style scoped>\n",
       "    .dataframe tbody tr th:only-of-type {\n",
       "        vertical-align: middle;\n",
       "    }\n",
       "\n",
       "    .dataframe tbody tr th {\n",
       "        vertical-align: top;\n",
       "    }\n",
       "\n",
       "    .dataframe thead th {\n",
       "        text-align: right;\n",
       "    }\n",
       "</style>\n",
       "<table border=\"1\" class=\"dataframe\">\n",
       "  <thead>\n",
       "    <tr style=\"text-align: right;\">\n",
       "      <th></th>\n",
       "      <th>one</th>\n",
       "      <th>two</th>\n",
       "    </tr>\n",
       "  </thead>\n",
       "  <tbody>\n",
       "    <tr>\n",
       "      <th>0</th>\n",
       "      <td>1.0</td>\n",
       "      <td>4.0</td>\n",
       "    </tr>\n",
       "    <tr>\n",
       "      <th>1</th>\n",
       "      <td>2.0</td>\n",
       "      <td>3.0</td>\n",
       "    </tr>\n",
       "    <tr>\n",
       "      <th>2</th>\n",
       "      <td>3.0</td>\n",
       "      <td>2.0</td>\n",
       "    </tr>\n",
       "    <tr>\n",
       "      <th>3</th>\n",
       "      <td>4.0</td>\n",
       "      <td>1.0</td>\n",
       "    </tr>\n",
       "  </tbody>\n",
       "</table>\n",
       "</div>"
      ],
      "text/plain": [
       "   one  two\n",
       "0  1.0  4.0\n",
       "1  2.0  3.0\n",
       "2  3.0  2.0\n",
       "3  4.0  1.0"
      ]
     },
     "execution_count": 71,
     "metadata": {},
     "output_type": "execute_result"
    }
   ],
   "source": [
    "#from dict of ndarrays / lists\n",
    "\"\"\"following examples shows that ndarray has same length\"\"\"\n",
    "d = { \n",
    "'one' : [1., 2., 3., 4.],\n",
    "'two' : [4., 3., 2., 1.] \n",
    "} \n",
    "\"\"\"column labels are not given so the result will be range(n), where n is the array length\"\"\"\n",
    "pd.DataFrame(d)"
   ]
  },
  {
   "cell_type": "code",
   "execution_count": 72,
   "id": "943a4bb6-0030-47f5-a86e-fc03c0abb1fb",
   "metadata": {},
   "outputs": [
    {
     "data": {
      "text/html": [
       "<div>\n",
       "<style scoped>\n",
       "    .dataframe tbody tr th:only-of-type {\n",
       "        vertical-align: middle;\n",
       "    }\n",
       "\n",
       "    .dataframe tbody tr th {\n",
       "        vertical-align: top;\n",
       "    }\n",
       "\n",
       "    .dataframe thead th {\n",
       "        text-align: right;\n",
       "    }\n",
       "</style>\n",
       "<table border=\"1\" class=\"dataframe\">\n",
       "  <thead>\n",
       "    <tr style=\"text-align: right;\">\n",
       "      <th></th>\n",
       "      <th>one</th>\n",
       "      <th>two</th>\n",
       "    </tr>\n",
       "  </thead>\n",
       "  <tbody>\n",
       "    <tr>\n",
       "      <th>a</th>\n",
       "      <td>1.0</td>\n",
       "      <td>4.0</td>\n",
       "    </tr>\n",
       "    <tr>\n",
       "      <th>b</th>\n",
       "      <td>2.0</td>\n",
       "      <td>3.0</td>\n",
       "    </tr>\n",
       "    <tr>\n",
       "      <th>c</th>\n",
       "      <td>3.0</td>\n",
       "      <td>2.0</td>\n",
       "    </tr>\n",
       "    <tr>\n",
       "      <th>d</th>\n",
       "      <td>4.0</td>\n",
       "      <td>1.0</td>\n",
       "    </tr>\n",
       "  </tbody>\n",
       "</table>\n",
       "</div>"
      ],
      "text/plain": [
       "   one  two\n",
       "a  1.0  4.0\n",
       "b  2.0  3.0\n",
       "c  3.0  2.0\n",
       "d  4.0  1.0"
      ]
     },
     "execution_count": 72,
     "metadata": {},
     "output_type": "execute_result"
    }
   ],
   "source": [
    "\"\"\"if indexs are given then it would be same length as arrays\"\"\"\n",
    "pd.DataFrame(d, index=['a', 'b', 'c', 'd'])\n"
   ]
  },
  {
   "cell_type": "code",
   "execution_count": 73,
   "id": "2f6378c6-3600-43bf-b73e-9a4479e9420a",
   "metadata": {},
   "outputs": [
    {
     "data": {
      "text/html": [
       "<div>\n",
       "<style scoped>\n",
       "    .dataframe tbody tr th:only-of-type {\n",
       "        vertical-align: middle;\n",
       "    }\n",
       "\n",
       "    .dataframe tbody tr th {\n",
       "        vertical-align: top;\n",
       "    }\n",
       "\n",
       "    .dataframe thead th {\n",
       "        text-align: right;\n",
       "    }\n",
       "</style>\n",
       "<table border=\"1\" class=\"dataframe\">\n",
       "  <thead>\n",
       "    <tr style=\"text-align: right;\">\n",
       "      <th></th>\n",
       "      <th>a</th>\n",
       "      <th>b</th>\n",
       "      <th>c</th>\n",
       "    </tr>\n",
       "  </thead>\n",
       "  <tbody>\n",
       "    <tr>\n",
       "      <th>0</th>\n",
       "      <td>1</td>\n",
       "      <td>2</td>\n",
       "      <td>NaN</td>\n",
       "    </tr>\n",
       "    <tr>\n",
       "      <th>1</th>\n",
       "      <td>5</td>\n",
       "      <td>10</td>\n",
       "      <td>20.0</td>\n",
       "    </tr>\n",
       "  </tbody>\n",
       "</table>\n",
       "</div>"
      ],
      "text/plain": [
       "   a   b     c\n",
       "0  1   2   NaN\n",
       "1  5  10  20.0"
      ]
     },
     "execution_count": 73,
     "metadata": {},
     "output_type": "execute_result"
    }
   ],
   "source": [
    "#from a list of dicts\n",
    "\"\"\"constructing data frame from a list of dicts\"\"\" \n",
    "data2 = [{'a': 1, 'b': 2}, {'a': 5, 'b': 10, 'c': 20}]\n",
    "pd.DataFrame(data2) "
   ]
  },
  {
   "cell_type": "code",
   "execution_count": 74,
   "id": "078be385-7f3a-4e4d-8359-38c32ba68a7e",
   "metadata": {},
   "outputs": [
    {
     "data": {
      "text/html": [
       "<div>\n",
       "<style scoped>\n",
       "    .dataframe tbody tr th:only-of-type {\n",
       "        vertical-align: middle;\n",
       "    }\n",
       "\n",
       "    .dataframe tbody tr th {\n",
       "        vertical-align: top;\n",
       "    }\n",
       "\n",
       "    .dataframe thead th {\n",
       "        text-align: right;\n",
       "    }\n",
       "</style>\n",
       "<table border=\"1\" class=\"dataframe\">\n",
       "  <thead>\n",
       "    <tr style=\"text-align: right;\">\n",
       "      <th></th>\n",
       "      <th>a</th>\n",
       "      <th>b</th>\n",
       "      <th>c</th>\n",
       "    </tr>\n",
       "  </thead>\n",
       "  <tbody>\n",
       "    <tr>\n",
       "      <th>first</th>\n",
       "      <td>1</td>\n",
       "      <td>2</td>\n",
       "      <td>NaN</td>\n",
       "    </tr>\n",
       "    <tr>\n",
       "      <th>second</th>\n",
       "      <td>5</td>\n",
       "      <td>10</td>\n",
       "      <td>20.0</td>\n",
       "    </tr>\n",
       "  </tbody>\n",
       "</table>\n",
       "</div>"
      ],
      "text/plain": [
       "        a   b     c\n",
       "first   1   2   NaN\n",
       "second  5  10  20.0"
      ]
     },
     "execution_count": 74,
     "metadata": {},
     "output_type": "execute_result"
    }
   ],
   "source": [
    "\"\"\"passing list of dicts as data and indexes (row labels)\"\"\" \n",
    "pd.DataFrame(data2, index=['first', 'second']) "
   ]
  },
  {
   "cell_type": "code",
   "execution_count": 75,
   "id": "f4613f58-19f4-4af4-a72c-804b7d24da7a",
   "metadata": {},
   "outputs": [
    {
     "data": {
      "text/html": [
       "<div>\n",
       "<style scoped>\n",
       "    .dataframe tbody tr th:only-of-type {\n",
       "        vertical-align: middle;\n",
       "    }\n",
       "\n",
       "    .dataframe tbody tr th {\n",
       "        vertical-align: top;\n",
       "    }\n",
       "\n",
       "    .dataframe thead th {\n",
       "        text-align: right;\n",
       "    }\n",
       "</style>\n",
       "<table border=\"1\" class=\"dataframe\">\n",
       "  <thead>\n",
       "    <tr style=\"text-align: right;\">\n",
       "      <th></th>\n",
       "      <th>a</th>\n",
       "      <th>b</th>\n",
       "    </tr>\n",
       "  </thead>\n",
       "  <tbody>\n",
       "    <tr>\n",
       "      <th>0</th>\n",
       "      <td>1</td>\n",
       "      <td>2</td>\n",
       "    </tr>\n",
       "    <tr>\n",
       "      <th>1</th>\n",
       "      <td>5</td>\n",
       "      <td>10</td>\n",
       "    </tr>\n",
       "  </tbody>\n",
       "</table>\n",
       "</div>"
      ],
      "text/plain": [
       "   a   b\n",
       "0  1   2\n",
       "1  5  10"
      ]
     },
     "execution_count": 75,
     "metadata": {},
     "output_type": "execute_result"
    }
   ],
   "source": [
    "\"\"\"passing list of dicts as data and columns (columns labels)\"\"\"\n",
    "pd.DataFrame(data2, columns=['a', 'b'])"
   ]
  },
  {
   "cell_type": "code",
   "execution_count": 76,
   "id": "99c2f083-e398-4f3f-90e3-ae9aa5a48636",
   "metadata": {},
   "outputs": [
    {
     "data": {
      "text/html": [
       "<div>\n",
       "<style scoped>\n",
       "    .dataframe tbody tr th:only-of-type {\n",
       "        vertical-align: middle;\n",
       "    }\n",
       "\n",
       "    .dataframe tbody tr th {\n",
       "        vertical-align: top;\n",
       "    }\n",
       "\n",
       "    .dataframe thead tr th {\n",
       "        text-align: left;\n",
       "    }\n",
       "</style>\n",
       "<table border=\"1\" class=\"dataframe\">\n",
       "  <thead>\n",
       "    <tr>\n",
       "      <th></th>\n",
       "      <th></th>\n",
       "      <th colspan=\"3\" halign=\"left\">a</th>\n",
       "      <th colspan=\"2\" halign=\"left\">b</th>\n",
       "    </tr>\n",
       "    <tr>\n",
       "      <th></th>\n",
       "      <th></th>\n",
       "      <th>b</th>\n",
       "      <th>a</th>\n",
       "      <th>c</th>\n",
       "      <th>a</th>\n",
       "      <th>b</th>\n",
       "    </tr>\n",
       "  </thead>\n",
       "  <tbody>\n",
       "    <tr>\n",
       "      <th rowspan=\"3\" valign=\"top\">A</th>\n",
       "      <th>B</th>\n",
       "      <td>1.0</td>\n",
       "      <td>4.0</td>\n",
       "      <td>5.0</td>\n",
       "      <td>8.0</td>\n",
       "      <td>10.0</td>\n",
       "    </tr>\n",
       "    <tr>\n",
       "      <th>C</th>\n",
       "      <td>2.0</td>\n",
       "      <td>3.0</td>\n",
       "      <td>6.0</td>\n",
       "      <td>7.0</td>\n",
       "      <td>NaN</td>\n",
       "    </tr>\n",
       "    <tr>\n",
       "      <th>D</th>\n",
       "      <td>NaN</td>\n",
       "      <td>NaN</td>\n",
       "      <td>NaN</td>\n",
       "      <td>NaN</td>\n",
       "      <td>9.0</td>\n",
       "    </tr>\n",
       "  </tbody>\n",
       "</table>\n",
       "</div>"
      ],
      "text/plain": [
       "       a              b      \n",
       "       b    a    c    a     b\n",
       "A B  1.0  4.0  5.0  8.0  10.0\n",
       "  C  2.0  3.0  6.0  7.0   NaN\n",
       "  D  NaN  NaN  NaN  NaN   9.0"
      ]
     },
     "execution_count": 76,
     "metadata": {},
     "output_type": "execute_result"
    }
   ],
   "source": [
    "#from a dict of tuples \n",
    "#creating a multiindexed frame by passing a tuples dictionary\n",
    "pd.DataFrame({('a', 'b'): {('A', 'B'): 1, ('A', 'C'): 2}, \n",
    "('a', 'a'): {('A', 'C'): 3, ('A', 'B'): 4},\n",
    " ('a', 'c'): {('A', 'B'): 5, ('A', 'C'): 6},\n",
    " ('b', 'a'): {('A', 'C'): 7, ('A', 'B'): 8},\n",
    " ('b', 'b'): {('A', 'D'): 9, ('A', 'B'): 10}})\n",
    "\n",
    "#NaN shows missing data"
   ]
  },
  {
   "cell_type": "code",
   "execution_count": 77,
   "id": "ac504aa9-5135-4b3b-beaa-39d0a98ede50",
   "metadata": {},
   "outputs": [
    {
     "name": "stdout",
     "output_type": "stream",
     "text": [
      "[(0, 0., b'') (0, 0., b'')]\n"
     ]
    }
   ],
   "source": [
    "#Alternate constructors\n",
    "#DataFrame.from_dict\n",
    "#DataFrame.from_records\n",
    "\n",
    "data = np.zeros((2,), dtype=[('A', 'i4'),('B', 'f4'),('C', 'S10')]) \n",
    "print(data) "
   ]
  },
  {
   "cell_type": "code",
   "execution_count": 78,
   "id": "b50a8dbd-6c8c-4010-8cde-db9d0ef46782",
   "metadata": {},
   "outputs": [
    {
     "data": {
      "text/html": [
       "<div>\n",
       "<style scoped>\n",
       "    .dataframe tbody tr th:only-of-type {\n",
       "        vertical-align: middle;\n",
       "    }\n",
       "\n",
       "    .dataframe tbody tr th {\n",
       "        vertical-align: top;\n",
       "    }\n",
       "\n",
       "    .dataframe thead th {\n",
       "        text-align: right;\n",
       "    }\n",
       "</style>\n",
       "<table border=\"1\" class=\"dataframe\">\n",
       "  <thead>\n",
       "    <tr style=\"text-align: right;\">\n",
       "      <th></th>\n",
       "      <th>A</th>\n",
       "      <th>B</th>\n",
       "    </tr>\n",
       "    <tr>\n",
       "      <th>C</th>\n",
       "      <th></th>\n",
       "      <th></th>\n",
       "    </tr>\n",
       "  </thead>\n",
       "  <tbody>\n",
       "    <tr>\n",
       "      <th>b''</th>\n",
       "      <td>0</td>\n",
       "      <td>0.0</td>\n",
       "    </tr>\n",
       "    <tr>\n",
       "      <th>b''</th>\n",
       "      <td>0</td>\n",
       "      <td>0.0</td>\n",
       "    </tr>\n",
       "  </tbody>\n",
       "</table>\n",
       "</div>"
      ],
      "text/plain": [
       "     A    B\n",
       "C          \n",
       "b''  0  0.0\n",
       "b''  0  0.0"
      ]
     },
     "execution_count": 78,
     "metadata": {},
     "output_type": "execute_result"
    }
   ],
   "source": [
    "pd.DataFrame.from_records(data, index='C')\n"
   ]
  },
  {
   "cell_type": "code",
   "execution_count": 79,
   "id": "69aa311d-d0f7-4335-a3ef-a3f233d05dd1",
   "metadata": {},
   "outputs": [
    {
     "ename": "AttributeError",
     "evalue": "type object 'DataFrame' has no attribute 'from_items'",
     "output_type": "error",
     "traceback": [
      "\u001b[1;31m---------------------------------------------------------------------------\u001b[0m",
      "\u001b[1;31mAttributeError\u001b[0m                            Traceback (most recent call last)",
      "Cell \u001b[1;32mIn[79], line 2\u001b[0m\n\u001b[0;32m      1\u001b[0m \u001b[38;5;66;03m#DataFrame.from_items\u001b[39;00m\n\u001b[1;32m----> 2\u001b[0m pd\u001b[38;5;241m.\u001b[39mDataFrame\u001b[38;5;241m.\u001b[39mfrom_items([(\u001b[38;5;124m'\u001b[39m\u001b[38;5;124mA\u001b[39m\u001b[38;5;124m'\u001b[39m, [\u001b[38;5;241m1\u001b[39m, \u001b[38;5;241m2\u001b[39m, \u001b[38;5;241m3\u001b[39m]), (\u001b[38;5;124m'\u001b[39m\u001b[38;5;124mB\u001b[39m\u001b[38;5;124m'\u001b[39m, [\u001b[38;5;241m4\u001b[39m, \u001b[38;5;241m5\u001b[39m, \u001b[38;5;241m6\u001b[39m])])\n",
      "\u001b[1;31mAttributeError\u001b[0m: type object 'DataFrame' has no attribute 'from_items'"
     ]
    }
   ],
   "source": [
    "#DataFrame.from_items\n",
    "pd.DataFrame.from_items([('A', [1, 2, 3]), ('B', [4, 5, 6])])"
   ]
  },
  {
   "cell_type": "code",
   "execution_count": 80,
   "id": "782a8865-496e-434a-a18a-1d03129130ec",
   "metadata": {},
   "outputs": [
    {
     "name": "stdout",
     "output_type": "stream",
     "text": [
      "   A  B\n",
      "0  1  4\n",
      "1  2  5\n",
      "2  3  6\n"
     ]
    }
   ],
   "source": [
    "data = {\n",
    "    'A': [1, 2, 3],\n",
    "    'B': [4, 5, 6]\n",
    "}\n",
    "\n",
    "df = pd.DataFrame(data)\n",
    "print(df)\n",
    "#from items not working"
   ]
  },
  {
   "cell_type": "code",
   "execution_count": 81,
   "id": "20e991b1-7105-4841-83fc-fdc17b0ef3da",
   "metadata": {},
   "outputs": [
    {
     "name": "stdout",
     "output_type": "stream",
     "text": [
      "   one  two  three\n",
      "A    1    2      3\n",
      "B    4    5      6\n"
     ]
    }
   ],
   "source": [
    "df = pd.DataFrame.from_dict(data, orient='index', columns=['one', 'two', 'three'])\n",
    "print(df)"
   ]
  },
  {
   "cell_type": "code",
   "execution_count": 82,
   "id": "b31f824d-13ed-42f6-b744-10a454849b74",
   "metadata": {},
   "outputs": [
    {
     "data": {
      "text/plain": [
       "A    1\n",
       "B    4\n",
       "Name: one, dtype: int64"
      ]
     },
     "execution_count": 82,
     "metadata": {},
     "output_type": "execute_result"
    }
   ],
   "source": [
    "#Column selection, addition and deletion\n",
    "df['one'] # it is displaying data under coloumn 'one'"
   ]
  },
  {
   "cell_type": "code",
   "execution_count": 83,
   "id": "fbb52a93-8eaa-480e-995a-c8d3163ae9ac",
   "metadata": {},
   "outputs": [],
   "source": [
    "df['three'] = df['one'] * df['two'] # assigning values to a colomn named 'three' after calculation"
   ]
  },
  {
   "cell_type": "code",
   "execution_count": 84,
   "id": "2f99dd0f-3f2c-4a4b-984d-8317e7897d4c",
   "metadata": {},
   "outputs": [],
   "source": [
    "df['flag'] = df['one'] > 2 #check if value at column 'one' is > 2 then assign True otherwise false"
   ]
  },
  {
   "cell_type": "code",
   "execution_count": 85,
   "id": "a907b638-0e4e-4169-861c-9de544b7405b",
   "metadata": {},
   "outputs": [
    {
     "name": "stdout",
     "output_type": "stream",
     "text": [
      "   one  two  three   flag\n",
      "A    1    2      2  False\n",
      "B    4    5     20   True\n"
     ]
    }
   ],
   "source": [
    "print(df) #print a complete data frame "
   ]
  },
  {
   "cell_type": "code",
   "execution_count": 86,
   "id": "38d0dc72-dca0-4805-991f-d519dda49f79",
   "metadata": {},
   "outputs": [],
   "source": [
    "#delete a coloumn 'two' from data frame\n",
    "del df['two']"
   ]
  },
  {
   "cell_type": "code",
   "execution_count": 87,
   "id": "d4036b0f-f93b-4023-91e6-5114ea3f5245",
   "metadata": {},
   "outputs": [],
   "source": [
    "three = df.pop('three') #pop a complete coloumn 'three' from dataframe \n"
   ]
  },
  {
   "cell_type": "code",
   "execution_count": 88,
   "id": "7a95d6d0-2b58-4843-9fdf-1187f9c8de08",
   "metadata": {},
   "outputs": [
    {
     "name": "stdout",
     "output_type": "stream",
     "text": [
      "   one   flag\n",
      "A    1  False\n",
      "B    4   True\n"
     ]
    }
   ],
   "source": [
    "print(df)"
   ]
  },
  {
   "cell_type": "code",
   "execution_count": 89,
   "id": "97ebe51f-ec98-4e52-b42c-5672c1ab6363",
   "metadata": {},
   "outputs": [],
   "source": [
    "df['foo'] = 'bar' #a coloumn 'foo' will be populated with 'bar' "
   ]
  },
  {
   "cell_type": "code",
   "execution_count": 90,
   "id": "811f8038-91c6-45b8-818e-7345b4d23001",
   "metadata": {},
   "outputs": [
    {
     "name": "stdout",
     "output_type": "stream",
     "text": [
      "   one   flag  foo\n",
      "A    1  False  bar\n",
      "B    4   True  bar\n"
     ]
    }
   ],
   "source": [
    "print(df)"
   ]
  },
  {
   "cell_type": "code",
   "execution_count": 91,
   "id": "6ed304a7-9ba0-4370-8ef5-aa740c24ccbe",
   "metadata": {},
   "outputs": [],
   "source": [
    "\"\"\"following example will take values from coloumn one until give range and will populate the new coloumn\"\"\"\n",
    "df['one_trunc'] = df['one'][:2]"
   ]
  },
  {
   "cell_type": "code",
   "execution_count": 92,
   "id": "ff606ee2-af1f-40bb-af13-8334d23a4b43",
   "metadata": {},
   "outputs": [
    {
     "name": "stdout",
     "output_type": "stream",
     "text": [
      "   one   flag  foo  one_trunc\n",
      "A    1  False  bar          1\n",
      "B    4   True  bar          4\n"
     ]
    }
   ],
   "source": [
    "print(df)"
   ]
  },
  {
   "cell_type": "code",
   "execution_count": 93,
   "id": "5c9634fc-6518-4092-8e22-5d79a8e1bd3b",
   "metadata": {},
   "outputs": [],
   "source": [
    "\"\"\"following function has three arguments. \n",
    "First argument: index where new coloumn will be inserted. \n",
    "Second argument: label or title of a new coloumn \n",
    "Third argument: it will create a coloumn at specified position\"\"\" \n",
    "\n",
    "df.insert(1, 'bar2', df['one'])"
   ]
  },
  {
   "cell_type": "code",
   "execution_count": 94,
   "id": "4d82bb77-0834-4a96-b143-0b785db1fbfd",
   "metadata": {},
   "outputs": [
    {
     "name": "stdout",
     "output_type": "stream",
     "text": [
      "   one  bar2   flag  foo  one_trunc\n",
      "A    1     1  False  bar          1\n",
      "B    4     4   True  bar          4\n"
     ]
    }
   ],
   "source": [
    "print(df)"
   ]
  },
  {
   "cell_type": "code",
   "execution_count": 96,
   "id": "99c38b2e-218a-495c-ac2b-637e8e0abfc5",
   "metadata": {},
   "outputs": [
    {
     "data": {
      "text/plain": [
       "one             4\n",
       "bar2            4\n",
       "flag         True\n",
       "foo           bar\n",
       "one_trunc       4\n",
       "Name: B, dtype: object"
      ]
     },
     "execution_count": 96,
     "metadata": {},
     "output_type": "execute_result"
    }
   ],
   "source": [
    "#Indexing / Selection \n",
    "#returns a series whose index is the columns of the DataFrame\n",
    "#df.loc['b'] returns all column labels and their values for the row with index label 'b'\n",
    "df.loc['B'] "
   ]
  },
  {
   "cell_type": "code",
   "execution_count": 99,
   "id": "5ace4308-d4c1-4fd4-b336-22cc45c8a568",
   "metadata": {},
   "outputs": [
    {
     "data": {
      "text/plain": [
       "one              1\n",
       "bar2             1\n",
       "flag         False\n",
       "foo            bar\n",
       "one_trunc        1\n",
       "Name: A, dtype: object"
      ]
     },
     "execution_count": 99,
     "metadata": {},
     "output_type": "execute_result"
    }
   ],
   "source": [
    "df.iloc[0] #it will return the values of those coloumns that is > than 2"
   ]
  },
  {
   "cell_type": "code",
   "execution_count": 100,
   "id": "58038a54-03b7-4039-af8c-8e646bae3ceb",
   "metadata": {},
   "outputs": [],
   "source": [
    "#Data alignment and arithmetic \n",
    "df = pd.DataFrame(np.random.randn(10, 4), columns=['A', 'B', 'C', 'D']) \n",
    "# creates a 10x4 dataframe 'df' with random numbers and columns A, B, C, D"
   ]
  },
  {
   "cell_type": "code",
   "execution_count": 101,
   "id": "a740a6cc-2fc0-4cb8-a848-8ab22673221e",
   "metadata": {},
   "outputs": [],
   "source": [
    "df2 = pd.DataFrame(np.random.randn(7, 3), columns=['A', 'B', 'C'])\n",
    "#creates a 7x3 dataframe 'df2' with random numbers and columns A, B, C,\n"
   ]
  },
  {
   "cell_type": "code",
   "execution_count": 102,
   "id": "c8096dff-06e0-4da8-8017-87ff5d9f4ffc",
   "metadata": {},
   "outputs": [
    {
     "data": {
      "text/html": [
       "<div>\n",
       "<style scoped>\n",
       "    .dataframe tbody tr th:only-of-type {\n",
       "        vertical-align: middle;\n",
       "    }\n",
       "\n",
       "    .dataframe tbody tr th {\n",
       "        vertical-align: top;\n",
       "    }\n",
       "\n",
       "    .dataframe thead th {\n",
       "        text-align: right;\n",
       "    }\n",
       "</style>\n",
       "<table border=\"1\" class=\"dataframe\">\n",
       "  <thead>\n",
       "    <tr style=\"text-align: right;\">\n",
       "      <th></th>\n",
       "      <th>A</th>\n",
       "      <th>B</th>\n",
       "      <th>C</th>\n",
       "      <th>D</th>\n",
       "    </tr>\n",
       "  </thead>\n",
       "  <tbody>\n",
       "    <tr>\n",
       "      <th>0</th>\n",
       "      <td>0.576176</td>\n",
       "      <td>1.422908</td>\n",
       "      <td>-0.925818</td>\n",
       "      <td>NaN</td>\n",
       "    </tr>\n",
       "    <tr>\n",
       "      <th>1</th>\n",
       "      <td>-3.102608</td>\n",
       "      <td>0.293953</td>\n",
       "      <td>-2.471443</td>\n",
       "      <td>NaN</td>\n",
       "    </tr>\n",
       "    <tr>\n",
       "      <th>2</th>\n",
       "      <td>-0.023023</td>\n",
       "      <td>0.718679</td>\n",
       "      <td>1.790984</td>\n",
       "      <td>NaN</td>\n",
       "    </tr>\n",
       "    <tr>\n",
       "      <th>3</th>\n",
       "      <td>-1.219400</td>\n",
       "      <td>0.846741</td>\n",
       "      <td>1.757198</td>\n",
       "      <td>NaN</td>\n",
       "    </tr>\n",
       "    <tr>\n",
       "      <th>4</th>\n",
       "      <td>2.616473</td>\n",
       "      <td>1.002800</td>\n",
       "      <td>0.595028</td>\n",
       "      <td>NaN</td>\n",
       "    </tr>\n",
       "    <tr>\n",
       "      <th>5</th>\n",
       "      <td>0.329185</td>\n",
       "      <td>-1.563256</td>\n",
       "      <td>0.572948</td>\n",
       "      <td>NaN</td>\n",
       "    </tr>\n",
       "    <tr>\n",
       "      <th>6</th>\n",
       "      <td>0.892561</td>\n",
       "      <td>-0.919703</td>\n",
       "      <td>0.521583</td>\n",
       "      <td>NaN</td>\n",
       "    </tr>\n",
       "    <tr>\n",
       "      <th>7</th>\n",
       "      <td>NaN</td>\n",
       "      <td>NaN</td>\n",
       "      <td>NaN</td>\n",
       "      <td>NaN</td>\n",
       "    </tr>\n",
       "    <tr>\n",
       "      <th>8</th>\n",
       "      <td>NaN</td>\n",
       "      <td>NaN</td>\n",
       "      <td>NaN</td>\n",
       "      <td>NaN</td>\n",
       "    </tr>\n",
       "    <tr>\n",
       "      <th>9</th>\n",
       "      <td>NaN</td>\n",
       "      <td>NaN</td>\n",
       "      <td>NaN</td>\n",
       "      <td>NaN</td>\n",
       "    </tr>\n",
       "  </tbody>\n",
       "</table>\n",
       "</div>"
      ],
      "text/plain": [
       "          A         B         C   D\n",
       "0  0.576176  1.422908 -0.925818 NaN\n",
       "1 -3.102608  0.293953 -2.471443 NaN\n",
       "2 -0.023023  0.718679  1.790984 NaN\n",
       "3 -1.219400  0.846741  1.757198 NaN\n",
       "4  2.616473  1.002800  0.595028 NaN\n",
       "5  0.329185 -1.563256  0.572948 NaN\n",
       "6  0.892561 -0.919703  0.521583 NaN\n",
       "7       NaN       NaN       NaN NaN\n",
       "8       NaN       NaN       NaN NaN\n",
       "9       NaN       NaN       NaN NaN"
      ]
     },
     "execution_count": 102,
     "metadata": {},
     "output_type": "execute_result"
    }
   ],
   "source": [
    "df + df2 \n",
    "# add values of respective coloumn labels"
   ]
  },
  {
   "cell_type": "code",
   "execution_count": 104,
   "id": "020b4453-2989-4f3a-aba9-604ac827c79b",
   "metadata": {},
   "outputs": [
    {
     "data": {
      "text/html": [
       "<div>\n",
       "<style scoped>\n",
       "    .dataframe tbody tr th:only-of-type {\n",
       "        vertical-align: middle;\n",
       "    }\n",
       "\n",
       "    .dataframe tbody tr th {\n",
       "        vertical-align: top;\n",
       "    }\n",
       "\n",
       "    .dataframe thead th {\n",
       "        text-align: right;\n",
       "    }\n",
       "</style>\n",
       "<table border=\"1\" class=\"dataframe\">\n",
       "  <thead>\n",
       "    <tr style=\"text-align: right;\">\n",
       "      <th></th>\n",
       "      <th>A</th>\n",
       "      <th>B</th>\n",
       "      <th>C</th>\n",
       "      <th>D</th>\n",
       "    </tr>\n",
       "  </thead>\n",
       "  <tbody>\n",
       "    <tr>\n",
       "      <th>0</th>\n",
       "      <td>0.000000</td>\n",
       "      <td>0.000000</td>\n",
       "      <td>0.000000</td>\n",
       "      <td>0.000000</td>\n",
       "    </tr>\n",
       "    <tr>\n",
       "      <th>1</th>\n",
       "      <td>-2.262125</td>\n",
       "      <td>-0.568452</td>\n",
       "      <td>-1.744268</td>\n",
       "      <td>1.392264</td>\n",
       "    </tr>\n",
       "    <tr>\n",
       "      <th>2</th>\n",
       "      <td>-1.232614</td>\n",
       "      <td>-1.129134</td>\n",
       "      <td>-1.232126</td>\n",
       "      <td>0.195111</td>\n",
       "    </tr>\n",
       "    <tr>\n",
       "      <th>3</th>\n",
       "      <td>-1.991537</td>\n",
       "      <td>-1.199224</td>\n",
       "      <td>-0.056969</td>\n",
       "      <td>0.080911</td>\n",
       "    </tr>\n",
       "    <tr>\n",
       "      <th>4</th>\n",
       "      <td>-0.818637</td>\n",
       "      <td>0.114890</td>\n",
       "      <td>0.163942</td>\n",
       "      <td>-0.979686</td>\n",
       "    </tr>\n",
       "    <tr>\n",
       "      <th>5</th>\n",
       "      <td>-0.254061</td>\n",
       "      <td>-2.919464</td>\n",
       "      <td>-0.534026</td>\n",
       "      <td>-1.058050</td>\n",
       "    </tr>\n",
       "    <tr>\n",
       "      <th>6</th>\n",
       "      <td>-1.609708</td>\n",
       "      <td>-4.027352</td>\n",
       "      <td>-0.637258</td>\n",
       "      <td>-0.729569</td>\n",
       "    </tr>\n",
       "    <tr>\n",
       "      <th>7</th>\n",
       "      <td>-2.610175</td>\n",
       "      <td>-1.922566</td>\n",
       "      <td>0.212069</td>\n",
       "      <td>-1.129340</td>\n",
       "    </tr>\n",
       "    <tr>\n",
       "      <th>8</th>\n",
       "      <td>-1.234067</td>\n",
       "      <td>-1.473088</td>\n",
       "      <td>0.476295</td>\n",
       "      <td>-2.306149</td>\n",
       "    </tr>\n",
       "    <tr>\n",
       "      <th>9</th>\n",
       "      <td>0.742314</td>\n",
       "      <td>-0.272517</td>\n",
       "      <td>-1.003003</td>\n",
       "      <td>-0.555052</td>\n",
       "    </tr>\n",
       "  </tbody>\n",
       "</table>\n",
       "</div>"
      ],
      "text/plain": [
       "          A         B         C         D\n",
       "0  0.000000  0.000000  0.000000  0.000000\n",
       "1 -2.262125 -0.568452 -1.744268  1.392264\n",
       "2 -1.232614 -1.129134 -1.232126  0.195111\n",
       "3 -1.991537 -1.199224 -0.056969  0.080911\n",
       "4 -0.818637  0.114890  0.163942 -0.979686\n",
       "5 -0.254061 -2.919464 -0.534026 -1.058050\n",
       "6 -1.609708 -4.027352 -0.637258 -0.729569\n",
       "7 -2.610175 -1.922566  0.212069 -1.129340\n",
       "8 -1.234067 -1.473088  0.476295 -2.306149\n",
       "9  0.742314 -0.272517 -1.003003 -0.555052"
      ]
     },
     "execution_count": 104,
     "metadata": {},
     "output_type": "execute_result"
    }
   ],
   "source": [
    "df - df.iloc[0]  #subtract the first row from all rows"
   ]
  },
  {
   "cell_type": "code",
   "execution_count": 105,
   "id": "77f922c1-12a5-48ac-b29d-db4dca4b2033",
   "metadata": {},
   "outputs": [
    {
     "data": {
      "text/html": [
       "<div>\n",
       "<style scoped>\n",
       "    .dataframe tbody tr th:only-of-type {\n",
       "        vertical-align: middle;\n",
       "    }\n",
       "\n",
       "    .dataframe tbody tr th {\n",
       "        vertical-align: top;\n",
       "    }\n",
       "\n",
       "    .dataframe thead th {\n",
       "        text-align: right;\n",
       "    }\n",
       "</style>\n",
       "<table border=\"1\" class=\"dataframe\">\n",
       "  <thead>\n",
       "    <tr style=\"text-align: right;\">\n",
       "      <th></th>\n",
       "      <th>A</th>\n",
       "      <th>B</th>\n",
       "      <th>C</th>\n",
       "      <th>D</th>\n",
       "    </tr>\n",
       "  </thead>\n",
       "  <tbody>\n",
       "    <tr>\n",
       "      <th>0</th>\n",
       "      <td>5.936993</td>\n",
       "      <td>8.775715</td>\n",
       "      <td>6.034179</td>\n",
       "      <td>5.484214</td>\n",
       "    </tr>\n",
       "    <tr>\n",
       "      <th>1</th>\n",
       "      <td>-5.373631</td>\n",
       "      <td>5.933453</td>\n",
       "      <td>-2.687161</td>\n",
       "      <td>12.445533</td>\n",
       "    </tr>\n",
       "    <tr>\n",
       "      <th>2</th>\n",
       "      <td>-0.226076</td>\n",
       "      <td>3.130044</td>\n",
       "      <td>-0.126451</td>\n",
       "      <td>6.459772</td>\n",
       "    </tr>\n",
       "    <tr>\n",
       "      <th>3</th>\n",
       "      <td>-4.020691</td>\n",
       "      <td>2.779594</td>\n",
       "      <td>5.749334</td>\n",
       "      <td>5.888769</td>\n",
       "    </tr>\n",
       "    <tr>\n",
       "      <th>4</th>\n",
       "      <td>1.843809</td>\n",
       "      <td>9.350165</td>\n",
       "      <td>6.853890</td>\n",
       "      <td>0.585783</td>\n",
       "    </tr>\n",
       "    <tr>\n",
       "      <th>5</th>\n",
       "      <td>4.666686</td>\n",
       "      <td>-5.821605</td>\n",
       "      <td>3.364048</td>\n",
       "      <td>0.193966</td>\n",
       "    </tr>\n",
       "    <tr>\n",
       "      <th>6</th>\n",
       "      <td>-2.111545</td>\n",
       "      <td>-11.361047</td>\n",
       "      <td>2.847890</td>\n",
       "      <td>1.836371</td>\n",
       "    </tr>\n",
       "    <tr>\n",
       "      <th>7</th>\n",
       "      <td>-7.113880</td>\n",
       "      <td>-0.837116</td>\n",
       "      <td>7.094524</td>\n",
       "      <td>-0.162483</td>\n",
       "    </tr>\n",
       "    <tr>\n",
       "      <th>8</th>\n",
       "      <td>-0.233342</td>\n",
       "      <td>1.410276</td>\n",
       "      <td>8.415653</td>\n",
       "      <td>-6.046529</td>\n",
       "    </tr>\n",
       "    <tr>\n",
       "      <th>9</th>\n",
       "      <td>9.648563</td>\n",
       "      <td>7.413132</td>\n",
       "      <td>1.019163</td>\n",
       "      <td>2.708953</td>\n",
       "    </tr>\n",
       "  </tbody>\n",
       "</table>\n",
       "</div>"
      ],
      "text/plain": [
       "          A          B         C          D\n",
       "0  5.936993   8.775715  6.034179   5.484214\n",
       "1 -5.373631   5.933453 -2.687161  12.445533\n",
       "2 -0.226076   3.130044 -0.126451   6.459772\n",
       "3 -4.020691   2.779594  5.749334   5.888769\n",
       "4  1.843809   9.350165  6.853890   0.585783\n",
       "5  4.666686  -5.821605  3.364048   0.193966\n",
       "6 -2.111545 -11.361047  2.847890   1.836371\n",
       "7 -7.113880  -0.837116  7.094524  -0.162483\n",
       "8 -0.233342   1.410276  8.415653  -6.046529\n",
       "9  9.648563   7.413132  1.019163   2.708953"
      ]
     },
     "execution_count": 105,
     "metadata": {},
     "output_type": "execute_result"
    }
   ],
   "source": [
    "df * 5 + 2  #multiplies every element in the 'df' by 5, then adds 2 to each result"
   ]
  },
  {
   "cell_type": "code",
   "execution_count": 106,
   "id": "789f8953-ae19-4995-9a6d-e96faaf2efa8",
   "metadata": {},
   "outputs": [
    {
     "data": {
      "text/html": [
       "<div>\n",
       "<style scoped>\n",
       "    .dataframe tbody tr th:only-of-type {\n",
       "        vertical-align: middle;\n",
       "    }\n",
       "\n",
       "    .dataframe tbody tr th {\n",
       "        vertical-align: top;\n",
       "    }\n",
       "\n",
       "    .dataframe thead th {\n",
       "        text-align: right;\n",
       "    }\n",
       "</style>\n",
       "<table border=\"1\" class=\"dataframe\">\n",
       "  <thead>\n",
       "    <tr style=\"text-align: right;\">\n",
       "      <th></th>\n",
       "      <th>A</th>\n",
       "      <th>B</th>\n",
       "      <th>C</th>\n",
       "      <th>D</th>\n",
       "    </tr>\n",
       "  </thead>\n",
       "  <tbody>\n",
       "    <tr>\n",
       "      <th>0</th>\n",
       "      <td>1.270005</td>\n",
       "      <td>0.737929</td>\n",
       "      <td>1.239410</td>\n",
       "      <td>1.435044</td>\n",
       "    </tr>\n",
       "    <tr>\n",
       "      <th>1</th>\n",
       "      <td>-0.678092</td>\n",
       "      <td>1.271148</td>\n",
       "      <td>-1.066744</td>\n",
       "      <td>0.478674</td>\n",
       "    </tr>\n",
       "    <tr>\n",
       "      <th>2</th>\n",
       "      <td>-2.246105</td>\n",
       "      <td>4.424605</td>\n",
       "      <td>-2.351335</td>\n",
       "      <td>1.121134</td>\n",
       "    </tr>\n",
       "    <tr>\n",
       "      <th>3</th>\n",
       "      <td>-0.830469</td>\n",
       "      <td>6.413598</td>\n",
       "      <td>1.333570</td>\n",
       "      <td>1.285754</td>\n",
       "    </tr>\n",
       "    <tr>\n",
       "      <th>4</th>\n",
       "      <td>-32.012154</td>\n",
       "      <td>0.680257</td>\n",
       "      <td>1.030102</td>\n",
       "      <td>-3.535525</td>\n",
       "    </tr>\n",
       "    <tr>\n",
       "      <th>5</th>\n",
       "      <td>1.874986</td>\n",
       "      <td>-0.639255</td>\n",
       "      <td>3.665561</td>\n",
       "      <td>-2.768497</td>\n",
       "    </tr>\n",
       "    <tr>\n",
       "      <th>6</th>\n",
       "      <td>-1.216088</td>\n",
       "      <td>-0.374222</td>\n",
       "      <td>5.896990</td>\n",
       "      <td>-30.556885</td>\n",
       "    </tr>\n",
       "    <tr>\n",
       "      <th>7</th>\n",
       "      <td>-0.548614</td>\n",
       "      <td>-1.762353</td>\n",
       "      <td>0.981446</td>\n",
       "      <td>-2.312156</td>\n",
       "    </tr>\n",
       "    <tr>\n",
       "      <th>8</th>\n",
       "      <td>-2.238798</td>\n",
       "      <td>-8.478541</td>\n",
       "      <td>0.779344</td>\n",
       "      <td>-0.621386</td>\n",
       "    </tr>\n",
       "    <tr>\n",
       "      <th>9</th>\n",
       "      <td>0.653718</td>\n",
       "      <td>0.923680</td>\n",
       "      <td>-5.097686</td>\n",
       "      <td>7.052650</td>\n",
       "    </tr>\n",
       "  </tbody>\n",
       "</table>\n",
       "</div>"
      ],
      "text/plain": [
       "           A         B         C          D\n",
       "0   1.270005  0.737929  1.239410   1.435044\n",
       "1  -0.678092  1.271148 -1.066744   0.478674\n",
       "2  -2.246105  4.424605 -2.351335   1.121134\n",
       "3  -0.830469  6.413598  1.333570   1.285754\n",
       "4 -32.012154  0.680257  1.030102  -3.535525\n",
       "5   1.874986 -0.639255  3.665561  -2.768497\n",
       "6  -1.216088 -0.374222  5.896990 -30.556885\n",
       "7  -0.548614 -1.762353  0.981446  -2.312156\n",
       "8  -2.238798 -8.478541  0.779344  -0.621386\n",
       "9   0.653718  0.923680 -5.097686   7.052650"
      ]
     },
     "execution_count": 106,
     "metadata": {},
     "output_type": "execute_result"
    }
   ],
   "source": [
    "1 / df # division of 1 by each value in the 'df'"
   ]
  },
  {
   "cell_type": "code",
   "execution_count": 107,
   "id": "0049d260-42bd-4598-895a-acfa507fc22e",
   "metadata": {},
   "outputs": [
    {
     "data": {
      "text/html": [
       "<div>\n",
       "<style scoped>\n",
       "    .dataframe tbody tr th:only-of-type {\n",
       "        vertical-align: middle;\n",
       "    }\n",
       "\n",
       "    .dataframe tbody tr th {\n",
       "        vertical-align: top;\n",
       "    }\n",
       "\n",
       "    .dataframe thead th {\n",
       "        text-align: right;\n",
       "    }\n",
       "</style>\n",
       "<table border=\"1\" class=\"dataframe\">\n",
       "  <thead>\n",
       "    <tr style=\"text-align: right;\">\n",
       "      <th></th>\n",
       "      <th>A</th>\n",
       "      <th>B</th>\n",
       "      <th>C</th>\n",
       "      <th>D</th>\n",
       "    </tr>\n",
       "  </thead>\n",
       "  <tbody>\n",
       "    <tr>\n",
       "      <th>0</th>\n",
       "      <td>3.843959e-01</td>\n",
       "      <td>3.372412</td>\n",
       "      <td>0.423780</td>\n",
       "      <td>0.235798</td>\n",
       "    </tr>\n",
       "    <tr>\n",
       "      <th>1</th>\n",
       "      <td>4.729831e+00</td>\n",
       "      <td>0.383015</td>\n",
       "      <td>0.772253</td>\n",
       "      <td>19.047696</td>\n",
       "    </tr>\n",
       "    <tr>\n",
       "      <th>2</th>\n",
       "      <td>3.928980e-02</td>\n",
       "      <td>0.002609</td>\n",
       "      <td>0.032715</td>\n",
       "      <td>0.632952</td>\n",
       "    </tr>\n",
       "    <tr>\n",
       "      <th>3</th>\n",
       "      <td>2.102351e+00</td>\n",
       "      <td>0.000591</td>\n",
       "      <td>0.316182</td>\n",
       "      <td>0.365905</td>\n",
       "    </tr>\n",
       "    <tr>\n",
       "      <th>4</th>\n",
       "      <td>9.522268e-07</td>\n",
       "      <td>4.669909</td>\n",
       "      <td>0.888136</td>\n",
       "      <td>0.006400</td>\n",
       "    </tr>\n",
       "    <tr>\n",
       "      <th>5</th>\n",
       "      <td>8.091098e-02</td>\n",
       "      <td>5.988298</td>\n",
       "      <td>0.005539</td>\n",
       "      <td>0.017023</td>\n",
       "    </tr>\n",
       "    <tr>\n",
       "      <th>6</th>\n",
       "      <td>4.572355e-01</td>\n",
       "      <td>50.989641</td>\n",
       "      <td>0.000827</td>\n",
       "      <td>0.000001</td>\n",
       "    </tr>\n",
       "    <tr>\n",
       "      <th>7</th>\n",
       "      <td>1.103909e+01</td>\n",
       "      <td>0.103664</td>\n",
       "      <td>1.077790</td>\n",
       "      <td>0.034989</td>\n",
       "    </tr>\n",
       "    <tr>\n",
       "      <th>8</th>\n",
       "      <td>3.980528e-02</td>\n",
       "      <td>0.000194</td>\n",
       "      <td>2.710712</td>\n",
       "      <td>6.707400</td>\n",
       "    </tr>\n",
       "    <tr>\n",
       "      <th>9</th>\n",
       "      <td>5.475697e+00</td>\n",
       "      <td>1.373772</td>\n",
       "      <td>0.001481</td>\n",
       "      <td>0.000404</td>\n",
       "    </tr>\n",
       "  </tbody>\n",
       "</table>\n",
       "</div>"
      ],
      "text/plain": [
       "              A          B         C          D\n",
       "0  3.843959e-01   3.372412  0.423780   0.235798\n",
       "1  4.729831e+00   0.383015  0.772253  19.047696\n",
       "2  3.928980e-02   0.002609  0.032715   0.632952\n",
       "3  2.102351e+00   0.000591  0.316182   0.365905\n",
       "4  9.522268e-07   4.669909  0.888136   0.006400\n",
       "5  8.091098e-02   5.988298  0.005539   0.017023\n",
       "6  4.572355e-01  50.989641  0.000827   0.000001\n",
       "7  1.103909e+01   0.103664  1.077790   0.034989\n",
       "8  3.980528e-02   0.000194  2.710712   6.707400\n",
       "9  5.475697e+00   1.373772  0.001481   0.000404"
      ]
     },
     "execution_count": 107,
     "metadata": {},
     "output_type": "execute_result"
    }
   ],
   "source": [
    "df **4 # make each element to the power of 4"
   ]
  },
  {
   "cell_type": "code",
   "execution_count": 108,
   "id": "7b45d3e8-0f3c-400a-8e8a-190798cd36b7",
   "metadata": {},
   "outputs": [],
   "source": [
    "#Boolean operators\n",
    "df1 = pd.DataFrame({'a' : [1, 0, 1], 'b' : [0, 1, 1] }, dtype=bool)"
   ]
  },
  {
   "cell_type": "code",
   "execution_count": 109,
   "id": "999ad976-24c7-4737-bef6-0be66c53c5ef",
   "metadata": {},
   "outputs": [],
   "source": [
    "df2 = pd.DataFrame({'a' : [0, 1, 1], 'b' : [1, 1, 0] }, dtype=bool)"
   ]
  },
  {
   "cell_type": "code",
   "execution_count": 110,
   "id": "f14cc6eb-25c8-4776-a112-069f2aa3d681",
   "metadata": {},
   "outputs": [
    {
     "data": {
      "text/html": [
       "<div>\n",
       "<style scoped>\n",
       "    .dataframe tbody tr th:only-of-type {\n",
       "        vertical-align: middle;\n",
       "    }\n",
       "\n",
       "    .dataframe tbody tr th {\n",
       "        vertical-align: top;\n",
       "    }\n",
       "\n",
       "    .dataframe thead th {\n",
       "        text-align: right;\n",
       "    }\n",
       "</style>\n",
       "<table border=\"1\" class=\"dataframe\">\n",
       "  <thead>\n",
       "    <tr style=\"text-align: right;\">\n",
       "      <th></th>\n",
       "      <th>a</th>\n",
       "      <th>b</th>\n",
       "    </tr>\n",
       "  </thead>\n",
       "  <tbody>\n",
       "    <tr>\n",
       "      <th>0</th>\n",
       "      <td>False</td>\n",
       "      <td>True</td>\n",
       "    </tr>\n",
       "    <tr>\n",
       "      <th>1</th>\n",
       "      <td>True</td>\n",
       "      <td>True</td>\n",
       "    </tr>\n",
       "    <tr>\n",
       "      <th>2</th>\n",
       "      <td>True</td>\n",
       "      <td>False</td>\n",
       "    </tr>\n",
       "  </tbody>\n",
       "</table>\n",
       "</div>"
      ],
      "text/plain": [
       "       a      b\n",
       "0  False   True\n",
       "1   True   True\n",
       "2   True  False"
      ]
     },
     "execution_count": 110,
     "metadata": {},
     "output_type": "execute_result"
    }
   ],
   "source": [
    "pd.DataFrame({'a' : [0, 1, 1], 'b' : [1, 1, 0] }, dtype=bool) #gives result in true / false"
   ]
  },
  {
   "cell_type": "code",
   "execution_count": 111,
   "id": "bf20eac0-3ebd-4ad5-abd9-0e718766b64e",
   "metadata": {},
   "outputs": [
    {
     "data": {
      "text/html": [
       "<div>\n",
       "<style scoped>\n",
       "    .dataframe tbody tr th:only-of-type {\n",
       "        vertical-align: middle;\n",
       "    }\n",
       "\n",
       "    .dataframe tbody tr th {\n",
       "        vertical-align: top;\n",
       "    }\n",
       "\n",
       "    .dataframe thead th {\n",
       "        text-align: right;\n",
       "    }\n",
       "</style>\n",
       "<table border=\"1\" class=\"dataframe\">\n",
       "  <thead>\n",
       "    <tr style=\"text-align: right;\">\n",
       "      <th></th>\n",
       "      <th>a</th>\n",
       "      <th>b</th>\n",
       "    </tr>\n",
       "  </thead>\n",
       "  <tbody>\n",
       "    <tr>\n",
       "      <th>0</th>\n",
       "      <td>False</td>\n",
       "      <td>False</td>\n",
       "    </tr>\n",
       "    <tr>\n",
       "      <th>1</th>\n",
       "      <td>False</td>\n",
       "      <td>True</td>\n",
       "    </tr>\n",
       "    <tr>\n",
       "      <th>2</th>\n",
       "      <td>True</td>\n",
       "      <td>False</td>\n",
       "    </tr>\n",
       "  </tbody>\n",
       "</table>\n",
       "</div>"
      ],
      "text/plain": [
       "       a      b\n",
       "0  False  False\n",
       "1  False   True\n",
       "2   True  False"
      ]
     },
     "execution_count": 111,
     "metadata": {},
     "output_type": "execute_result"
    }
   ],
   "source": [
    "df1 & df2 #and logical operator"
   ]
  },
  {
   "cell_type": "code",
   "execution_count": 112,
   "id": "1a14170a-f219-4be7-ad0b-a7d154b9e1bb",
   "metadata": {},
   "outputs": [
    {
     "data": {
      "text/html": [
       "<div>\n",
       "<style scoped>\n",
       "    .dataframe tbody tr th:only-of-type {\n",
       "        vertical-align: middle;\n",
       "    }\n",
       "\n",
       "    .dataframe tbody tr th {\n",
       "        vertical-align: top;\n",
       "    }\n",
       "\n",
       "    .dataframe thead th {\n",
       "        text-align: right;\n",
       "    }\n",
       "</style>\n",
       "<table border=\"1\" class=\"dataframe\">\n",
       "  <thead>\n",
       "    <tr style=\"text-align: right;\">\n",
       "      <th></th>\n",
       "      <th>a</th>\n",
       "      <th>b</th>\n",
       "    </tr>\n",
       "  </thead>\n",
       "  <tbody>\n",
       "    <tr>\n",
       "      <th>0</th>\n",
       "      <td>True</td>\n",
       "      <td>True</td>\n",
       "    </tr>\n",
       "    <tr>\n",
       "      <th>1</th>\n",
       "      <td>True</td>\n",
       "      <td>True</td>\n",
       "    </tr>\n",
       "    <tr>\n",
       "      <th>2</th>\n",
       "      <td>True</td>\n",
       "      <td>True</td>\n",
       "    </tr>\n",
       "  </tbody>\n",
       "</table>\n",
       "</div>"
      ],
      "text/plain": [
       "      a     b\n",
       "0  True  True\n",
       "1  True  True\n",
       "2  True  True"
      ]
     },
     "execution_count": 112,
     "metadata": {},
     "output_type": "execute_result"
    }
   ],
   "source": [
    "df1 | df2 # or operator "
   ]
  },
  {
   "cell_type": "code",
   "execution_count": 113,
   "id": "da619266-c6e0-4092-8fdb-a6824e3d301a",
   "metadata": {},
   "outputs": [
    {
     "data": {
      "text/html": [
       "<div>\n",
       "<style scoped>\n",
       "    .dataframe tbody tr th:only-of-type {\n",
       "        vertical-align: middle;\n",
       "    }\n",
       "\n",
       "    .dataframe tbody tr th {\n",
       "        vertical-align: top;\n",
       "    }\n",
       "\n",
       "    .dataframe thead th {\n",
       "        text-align: right;\n",
       "    }\n",
       "</style>\n",
       "<table border=\"1\" class=\"dataframe\">\n",
       "  <thead>\n",
       "    <tr style=\"text-align: right;\">\n",
       "      <th></th>\n",
       "      <th>a</th>\n",
       "      <th>b</th>\n",
       "    </tr>\n",
       "  </thead>\n",
       "  <tbody>\n",
       "    <tr>\n",
       "      <th>0</th>\n",
       "      <td>False</td>\n",
       "      <td>True</td>\n",
       "    </tr>\n",
       "    <tr>\n",
       "      <th>1</th>\n",
       "      <td>True</td>\n",
       "      <td>False</td>\n",
       "    </tr>\n",
       "    <tr>\n",
       "      <th>2</th>\n",
       "      <td>False</td>\n",
       "      <td>False</td>\n",
       "    </tr>\n",
       "  </tbody>\n",
       "</table>\n",
       "</div>"
      ],
      "text/plain": [
       "       a      b\n",
       "0  False   True\n",
       "1   True  False\n",
       "2  False  False"
      ]
     },
     "execution_count": 113,
     "metadata": {},
     "output_type": "execute_result"
    }
   ],
   "source": [
    "-df1 #re"
   ]
  },
  {
   "cell_type": "code",
   "execution_count": 114,
   "id": "67f8566a-5149-43bf-aced-a3e5432c1892",
   "metadata": {},
   "outputs": [
    {
     "data": {
      "text/html": [
       "<div>\n",
       "<style scoped>\n",
       "    .dataframe tbody tr th:only-of-type {\n",
       "        vertical-align: middle;\n",
       "    }\n",
       "\n",
       "    .dataframe tbody tr th {\n",
       "        vertical-align: top;\n",
       "    }\n",
       "\n",
       "    .dataframe thead th {\n",
       "        text-align: right;\n",
       "    }\n",
       "</style>\n",
       "<table border=\"1\" class=\"dataframe\">\n",
       "  <thead>\n",
       "    <tr style=\"text-align: right;\">\n",
       "      <th></th>\n",
       "      <th>0</th>\n",
       "      <th>1</th>\n",
       "      <th>2</th>\n",
       "      <th>3</th>\n",
       "      <th>4</th>\n",
       "    </tr>\n",
       "  </thead>\n",
       "  <tbody>\n",
       "    <tr>\n",
       "      <th>A</th>\n",
       "      <td>0.787399</td>\n",
       "      <td>-1.474726</td>\n",
       "      <td>-0.445215</td>\n",
       "      <td>-1.204138</td>\n",
       "      <td>-0.031238</td>\n",
       "    </tr>\n",
       "    <tr>\n",
       "      <th>B</th>\n",
       "      <td>1.355143</td>\n",
       "      <td>0.786691</td>\n",
       "      <td>0.226009</td>\n",
       "      <td>0.155919</td>\n",
       "      <td>1.470033</td>\n",
       "    </tr>\n",
       "    <tr>\n",
       "      <th>C</th>\n",
       "      <td>0.806836</td>\n",
       "      <td>-0.937432</td>\n",
       "      <td>-0.425290</td>\n",
       "      <td>0.749867</td>\n",
       "      <td>0.970778</td>\n",
       "    </tr>\n",
       "    <tr>\n",
       "      <th>D</th>\n",
       "      <td>0.696843</td>\n",
       "      <td>2.089107</td>\n",
       "      <td>0.891954</td>\n",
       "      <td>0.777754</td>\n",
       "      <td>-0.282843</td>\n",
       "    </tr>\n",
       "  </tbody>\n",
       "</table>\n",
       "</div>"
      ],
      "text/plain": [
       "          0         1         2         3         4\n",
       "A  0.787399 -1.474726 -0.445215 -1.204138 -0.031238\n",
       "B  1.355143  0.786691  0.226009  0.155919  1.470033\n",
       "C  0.806836 -0.937432 -0.425290  0.749867  0.970778\n",
       "D  0.696843  2.089107  0.891954  0.777754 -0.282843"
      ]
     },
     "execution_count": 114,
     "metadata": {},
     "output_type": "execute_result"
    }
   ],
   "source": [
    "# transposing \n",
    "# access the T attribute also the transpose function\n",
    "# only show the first 5 rows\n",
    "df[:5].T "
   ]
  },
  {
   "cell_type": "code",
   "execution_count": 115,
   "id": "27196c86-0b7d-4d4b-ab44-06b9b55b3a14",
   "metadata": {},
   "outputs": [],
   "source": [
    "#creating a DataFrame by passing a numpy array, with a datetime index and labeled columns:\n",
    "dates = pd.date_range('20130101', periods=6)"
   ]
  },
  {
   "cell_type": "code",
   "execution_count": 116,
   "id": "45805f19-4f39-471e-80ec-de33cca1b973",
   "metadata": {},
   "outputs": [
    {
     "name": "stdout",
     "output_type": "stream",
     "text": [
      "DatetimeIndex(['2013-01-01', '2013-01-02', '2013-01-03', '2013-01-04',\n",
      "               '2013-01-05', '2013-01-06'],\n",
      "              dtype='datetime64[ns]', freq='D')\n"
     ]
    }
   ],
   "source": [
    "print(dates)"
   ]
  },
  {
   "cell_type": "code",
   "execution_count": 117,
   "id": "5d50cb6f-201a-4216-82d0-32d64853ea0c",
   "metadata": {},
   "outputs": [],
   "source": [
    "#Creates DataFrame with random numbers,indexed by `dates`, and columns \n",
    "df = pd.DataFrame(np.random.randn(6,4), index=dates, columns=list('ABCD'))"
   ]
  },
  {
   "cell_type": "code",
   "execution_count": 118,
   "id": "834437ae-9caa-4fef-ac4f-b015da80b77b",
   "metadata": {},
   "outputs": [
    {
     "name": "stdout",
     "output_type": "stream",
     "text": [
      "                   A         B         C         D\n",
      "2013-01-01  0.179553  0.263283  0.500210  0.779059\n",
      "2013-01-02  0.995978 -0.509828 -0.186148 -0.265221\n",
      "2013-01-03 -0.866981 -0.130418  0.022491 -0.315984\n",
      "2013-01-04  0.280158 -0.685520 -0.137423 -0.124859\n",
      "2013-01-05 -0.498899 -0.127431 -0.358899  0.751689\n",
      "2013-01-06 -0.705824  1.786893 -0.031778 -1.779740\n"
     ]
    }
   ],
   "source": [
    "print(df)"
   ]
  },
  {
   "cell_type": "code",
   "execution_count": 119,
   "id": "837e2d59-2158-4ce1-8e12-ca19c969a107",
   "metadata": {},
   "outputs": [],
   "source": [
    "#creating a DataFrame by passing a dict of objects that can be converted to series-like.\n",
    "df2 = pd.DataFrame({ 'A' : 1., \n",
    "'B' : pd.Timestamp('20130102'),\n",
    "'C' : pd.Series(1,index=list(range(4)),dtype='float32'),\n",
    "'D' : np.array([3] * 4,dtype='int32'),\n",
    "'E' : pd.Categorical([\"test\",\"train\",\"test\",\"train\"]),\n",
    "'F' : 'foo' })  #creates a DataFrame with mixed data types including float,timestamp,series,numpy array,categorical and string"
   ]
  },
  {
   "cell_type": "code",
   "execution_count": 120,
   "id": "18055b1b-f064-4357-a973-6ffa09a19157",
   "metadata": {},
   "outputs": [
    {
     "name": "stdout",
     "output_type": "stream",
     "text": [
      "     A          B    C  D      E    F\n",
      "0  1.0 2013-01-02  1.0  3   test  foo\n",
      "1  1.0 2013-01-02  1.0  3  train  foo\n",
      "2  1.0 2013-01-02  1.0  3   test  foo\n",
      "3  1.0 2013-01-02  1.0  3  train  foo\n"
     ]
    }
   ],
   "source": [
    "print(df2)"
   ]
  },
  {
   "cell_type": "code",
   "execution_count": 121,
   "id": "0c6e679e-8fbc-4153-ada8-5bd3806fa887",
   "metadata": {},
   "outputs": [
    {
     "data": {
      "text/plain": [
       "A          float64\n",
       "B    datetime64[s]\n",
       "C          float32\n",
       "D            int32\n",
       "E         category\n",
       "F           object\n",
       "dtype: object"
      ]
     },
     "execution_count": 121,
     "metadata": {},
     "output_type": "execute_result"
    }
   ],
   "source": [
    "#Having specific dtypes \n",
    "df2.dtypes "
   ]
  },
  {
   "cell_type": "code",
   "execution_count": 122,
   "id": "480480e7-f097-4209-a1c9-710b40f3708d",
   "metadata": {},
   "outputs": [
    {
     "data": {
      "text/html": [
       "<div>\n",
       "<style scoped>\n",
       "    .dataframe tbody tr th:only-of-type {\n",
       "        vertical-align: middle;\n",
       "    }\n",
       "\n",
       "    .dataframe tbody tr th {\n",
       "        vertical-align: top;\n",
       "    }\n",
       "\n",
       "    .dataframe thead th {\n",
       "        text-align: right;\n",
       "    }\n",
       "</style>\n",
       "<table border=\"1\" class=\"dataframe\">\n",
       "  <thead>\n",
       "    <tr style=\"text-align: right;\">\n",
       "      <th></th>\n",
       "      <th>A</th>\n",
       "      <th>B</th>\n",
       "      <th>C</th>\n",
       "      <th>D</th>\n",
       "    </tr>\n",
       "  </thead>\n",
       "  <tbody>\n",
       "    <tr>\n",
       "      <th>2013-01-01</th>\n",
       "      <td>0.179553</td>\n",
       "      <td>0.263283</td>\n",
       "      <td>0.500210</td>\n",
       "      <td>0.779059</td>\n",
       "    </tr>\n",
       "    <tr>\n",
       "      <th>2013-01-02</th>\n",
       "      <td>0.995978</td>\n",
       "      <td>-0.509828</td>\n",
       "      <td>-0.186148</td>\n",
       "      <td>-0.265221</td>\n",
       "    </tr>\n",
       "    <tr>\n",
       "      <th>2013-01-03</th>\n",
       "      <td>-0.866981</td>\n",
       "      <td>-0.130418</td>\n",
       "      <td>0.022491</td>\n",
       "      <td>-0.315984</td>\n",
       "    </tr>\n",
       "    <tr>\n",
       "      <th>2013-01-04</th>\n",
       "      <td>0.280158</td>\n",
       "      <td>-0.685520</td>\n",
       "      <td>-0.137423</td>\n",
       "      <td>-0.124859</td>\n",
       "    </tr>\n",
       "    <tr>\n",
       "      <th>2013-01-05</th>\n",
       "      <td>-0.498899</td>\n",
       "      <td>-0.127431</td>\n",
       "      <td>-0.358899</td>\n",
       "      <td>0.751689</td>\n",
       "    </tr>\n",
       "  </tbody>\n",
       "</table>\n",
       "</div>"
      ],
      "text/plain": [
       "                   A         B         C         D\n",
       "2013-01-01  0.179553  0.263283  0.500210  0.779059\n",
       "2013-01-02  0.995978 -0.509828 -0.186148 -0.265221\n",
       "2013-01-03 -0.866981 -0.130418  0.022491 -0.315984\n",
       "2013-01-04  0.280158 -0.685520 -0.137423 -0.124859\n",
       "2013-01-05 -0.498899 -0.127431 -0.358899  0.751689"
      ]
     },
     "execution_count": 122,
     "metadata": {},
     "output_type": "execute_result"
    }
   ],
   "source": [
    "#Viewing Data\n",
    "df.head(5) #display first 5 records"
   ]
  },
  {
   "cell_type": "code",
   "execution_count": 123,
   "id": "2abecbdc-368c-4cd5-8abc-941f120f286e",
   "metadata": {},
   "outputs": [
    {
     "data": {
      "text/html": [
       "<div>\n",
       "<style scoped>\n",
       "    .dataframe tbody tr th:only-of-type {\n",
       "        vertical-align: middle;\n",
       "    }\n",
       "\n",
       "    .dataframe tbody tr th {\n",
       "        vertical-align: top;\n",
       "    }\n",
       "\n",
       "    .dataframe thead th {\n",
       "        text-align: right;\n",
       "    }\n",
       "</style>\n",
       "<table border=\"1\" class=\"dataframe\">\n",
       "  <thead>\n",
       "    <tr style=\"text-align: right;\">\n",
       "      <th></th>\n",
       "      <th>A</th>\n",
       "      <th>B</th>\n",
       "      <th>C</th>\n",
       "      <th>D</th>\n",
       "    </tr>\n",
       "  </thead>\n",
       "  <tbody>\n",
       "    <tr>\n",
       "      <th>2013-01-04</th>\n",
       "      <td>0.280158</td>\n",
       "      <td>-0.685520</td>\n",
       "      <td>-0.137423</td>\n",
       "      <td>-0.124859</td>\n",
       "    </tr>\n",
       "    <tr>\n",
       "      <th>2013-01-05</th>\n",
       "      <td>-0.498899</td>\n",
       "      <td>-0.127431</td>\n",
       "      <td>-0.358899</td>\n",
       "      <td>0.751689</td>\n",
       "    </tr>\n",
       "    <tr>\n",
       "      <th>2013-01-06</th>\n",
       "      <td>-0.705824</td>\n",
       "      <td>1.786893</td>\n",
       "      <td>-0.031778</td>\n",
       "      <td>-1.779740</td>\n",
       "    </tr>\n",
       "  </tbody>\n",
       "</table>\n",
       "</div>"
      ],
      "text/plain": [
       "                   A         B         C         D\n",
       "2013-01-04  0.280158 -0.685520 -0.137423 -0.124859\n",
       "2013-01-05 -0.498899 -0.127431 -0.358899  0.751689\n",
       "2013-01-06 -0.705824  1.786893 -0.031778 -1.779740"
      ]
     },
     "execution_count": 123,
     "metadata": {},
     "output_type": "execute_result"
    }
   ],
   "source": [
    "df.tail(3) #display last 3 records "
   ]
  },
  {
   "cell_type": "code",
   "execution_count": 124,
   "id": "af045742-3ce9-4292-a332-7ca5e3fb1063",
   "metadata": {},
   "outputs": [
    {
     "data": {
      "text/plain": [
       "DatetimeIndex(['2013-01-01', '2013-01-02', '2013-01-03', '2013-01-04',\n",
       "               '2013-01-05', '2013-01-06'],\n",
       "              dtype='datetime64[ns]', freq='D')"
      ]
     },
     "execution_count": 124,
     "metadata": {},
     "output_type": "execute_result"
    }
   ],
   "source": [
    "df.index #display indexes"
   ]
  },
  {
   "cell_type": "code",
   "execution_count": 125,
   "id": "a12f38a0-dcfa-4d70-b368-aecc57ab2fee",
   "metadata": {},
   "outputs": [
    {
     "data": {
      "text/plain": [
       "Index(['A', 'B', 'C', 'D'], dtype='object')"
      ]
     },
     "execution_count": 125,
     "metadata": {},
     "output_type": "execute_result"
    }
   ],
   "source": [
    "df.columns #display coloumns A,B,C,D"
   ]
  },
  {
   "cell_type": "code",
   "execution_count": 126,
   "id": "e52ca1c3-c9de-4cb7-88e2-cbcb73c00244",
   "metadata": {},
   "outputs": [
    {
     "data": {
      "text/plain": [
       "array([[ 0.1795535 ,  0.26328267,  0.50021033,  0.77905934],\n",
       "       [ 0.99597834, -0.50982785, -0.18614787, -0.26522076],\n",
       "       [-0.86698145, -0.13041781,  0.0224913 , -0.31598362],\n",
       "       [ 0.28015752, -0.68551975, -0.13742323, -0.1248591 ],\n",
       "       [-0.49889909, -0.1274306 , -0.35889894,  0.75168915],\n",
       "       [-0.7058236 ,  1.78689254, -0.03177755, -1.77973995]])"
      ]
     },
     "execution_count": 126,
     "metadata": {},
     "output_type": "execute_result"
    }
   ],
   "source": [
    "df.values # print values "
   ]
  },
  {
   "cell_type": "code",
   "execution_count": 127,
   "id": "40793fd4-3f8a-45e0-bf0f-7f37e79503f1",
   "metadata": {},
   "outputs": [
    {
     "data": {
      "text/html": [
       "<div>\n",
       "<style scoped>\n",
       "    .dataframe tbody tr th:only-of-type {\n",
       "        vertical-align: middle;\n",
       "    }\n",
       "\n",
       "    .dataframe tbody tr th {\n",
       "        vertical-align: top;\n",
       "    }\n",
       "\n",
       "    .dataframe thead th {\n",
       "        text-align: right;\n",
       "    }\n",
       "</style>\n",
       "<table border=\"1\" class=\"dataframe\">\n",
       "  <thead>\n",
       "    <tr style=\"text-align: right;\">\n",
       "      <th></th>\n",
       "      <th>2013-01-01</th>\n",
       "      <th>2013-01-02</th>\n",
       "      <th>2013-01-03</th>\n",
       "      <th>2013-01-04</th>\n",
       "      <th>2013-01-05</th>\n",
       "      <th>2013-01-06</th>\n",
       "    </tr>\n",
       "  </thead>\n",
       "  <tbody>\n",
       "    <tr>\n",
       "      <th>A</th>\n",
       "      <td>0.179553</td>\n",
       "      <td>0.995978</td>\n",
       "      <td>-0.866981</td>\n",
       "      <td>0.280158</td>\n",
       "      <td>-0.498899</td>\n",
       "      <td>-0.705824</td>\n",
       "    </tr>\n",
       "    <tr>\n",
       "      <th>B</th>\n",
       "      <td>0.263283</td>\n",
       "      <td>-0.509828</td>\n",
       "      <td>-0.130418</td>\n",
       "      <td>-0.685520</td>\n",
       "      <td>-0.127431</td>\n",
       "      <td>1.786893</td>\n",
       "    </tr>\n",
       "    <tr>\n",
       "      <th>C</th>\n",
       "      <td>0.500210</td>\n",
       "      <td>-0.186148</td>\n",
       "      <td>0.022491</td>\n",
       "      <td>-0.137423</td>\n",
       "      <td>-0.358899</td>\n",
       "      <td>-0.031778</td>\n",
       "    </tr>\n",
       "    <tr>\n",
       "      <th>D</th>\n",
       "      <td>0.779059</td>\n",
       "      <td>-0.265221</td>\n",
       "      <td>-0.315984</td>\n",
       "      <td>-0.124859</td>\n",
       "      <td>0.751689</td>\n",
       "      <td>-1.779740</td>\n",
       "    </tr>\n",
       "  </tbody>\n",
       "</table>\n",
       "</div>"
      ],
      "text/plain": [
       "   2013-01-01  2013-01-02  2013-01-03  2013-01-04  2013-01-05  2013-01-06\n",
       "A    0.179553    0.995978   -0.866981    0.280158   -0.498899   -0.705824\n",
       "B    0.263283   -0.509828   -0.130418   -0.685520   -0.127431    1.786893\n",
       "C    0.500210   -0.186148    0.022491   -0.137423   -0.358899   -0.031778\n",
       "D    0.779059   -0.265221   -0.315984   -0.124859    0.751689   -1.779740"
      ]
     },
     "execution_count": 127,
     "metadata": {},
     "output_type": "execute_result"
    }
   ],
   "source": [
    "# Transposing your data \n",
    "df.T #make columns to rows and rows to column"
   ]
  },
  {
   "cell_type": "code",
   "execution_count": 128,
   "id": "0b04e793-9f9b-4f7d-b925-eb79f0a7331e",
   "metadata": {},
   "outputs": [
    {
     "data": {
      "text/html": [
       "<div>\n",
       "<style scoped>\n",
       "    .dataframe tbody tr th:only-of-type {\n",
       "        vertical-align: middle;\n",
       "    }\n",
       "\n",
       "    .dataframe tbody tr th {\n",
       "        vertical-align: top;\n",
       "    }\n",
       "\n",
       "    .dataframe thead th {\n",
       "        text-align: right;\n",
       "    }\n",
       "</style>\n",
       "<table border=\"1\" class=\"dataframe\">\n",
       "  <thead>\n",
       "    <tr style=\"text-align: right;\">\n",
       "      <th></th>\n",
       "      <th>D</th>\n",
       "      <th>C</th>\n",
       "      <th>B</th>\n",
       "      <th>A</th>\n",
       "    </tr>\n",
       "  </thead>\n",
       "  <tbody>\n",
       "    <tr>\n",
       "      <th>2013-01-01</th>\n",
       "      <td>0.779059</td>\n",
       "      <td>0.500210</td>\n",
       "      <td>0.263283</td>\n",
       "      <td>0.179553</td>\n",
       "    </tr>\n",
       "    <tr>\n",
       "      <th>2013-01-02</th>\n",
       "      <td>-0.265221</td>\n",
       "      <td>-0.186148</td>\n",
       "      <td>-0.509828</td>\n",
       "      <td>0.995978</td>\n",
       "    </tr>\n",
       "    <tr>\n",
       "      <th>2013-01-03</th>\n",
       "      <td>-0.315984</td>\n",
       "      <td>0.022491</td>\n",
       "      <td>-0.130418</td>\n",
       "      <td>-0.866981</td>\n",
       "    </tr>\n",
       "    <tr>\n",
       "      <th>2013-01-04</th>\n",
       "      <td>-0.124859</td>\n",
       "      <td>-0.137423</td>\n",
       "      <td>-0.685520</td>\n",
       "      <td>0.280158</td>\n",
       "    </tr>\n",
       "    <tr>\n",
       "      <th>2013-01-05</th>\n",
       "      <td>0.751689</td>\n",
       "      <td>-0.358899</td>\n",
       "      <td>-0.127431</td>\n",
       "      <td>-0.498899</td>\n",
       "    </tr>\n",
       "    <tr>\n",
       "      <th>2013-01-06</th>\n",
       "      <td>-1.779740</td>\n",
       "      <td>-0.031778</td>\n",
       "      <td>1.786893</td>\n",
       "      <td>-0.705824</td>\n",
       "    </tr>\n",
       "  </tbody>\n",
       "</table>\n",
       "</div>"
      ],
      "text/plain": [
       "                   D         C         B         A\n",
       "2013-01-01  0.779059  0.500210  0.263283  0.179553\n",
       "2013-01-02 -0.265221 -0.186148 -0.509828  0.995978\n",
       "2013-01-03 -0.315984  0.022491 -0.130418 -0.866981\n",
       "2013-01-04 -0.124859 -0.137423 -0.685520  0.280158\n",
       "2013-01-05  0.751689 -0.358899 -0.127431 -0.498899\n",
       "2013-01-06 -1.779740 -0.031778  1.786893 -0.705824"
      ]
     },
     "execution_count": 128,
     "metadata": {},
     "output_type": "execute_result"
    }
   ],
   "source": [
    "#Sorting the columns in descending order based on their labels.\n",
    "df.sort_index(axis=1, ascending=False)"
   ]
  },
  {
   "cell_type": "code",
   "execution_count": 129,
   "id": "bc330fa7-9dc4-4782-be98-18d6611cab89",
   "metadata": {},
   "outputs": [
    {
     "data": {
      "text/html": [
       "<div>\n",
       "<style scoped>\n",
       "    .dataframe tbody tr th:only-of-type {\n",
       "        vertical-align: middle;\n",
       "    }\n",
       "\n",
       "    .dataframe tbody tr th {\n",
       "        vertical-align: top;\n",
       "    }\n",
       "\n",
       "    .dataframe thead th {\n",
       "        text-align: right;\n",
       "    }\n",
       "</style>\n",
       "<table border=\"1\" class=\"dataframe\">\n",
       "  <thead>\n",
       "    <tr style=\"text-align: right;\">\n",
       "      <th></th>\n",
       "      <th>A</th>\n",
       "      <th>B</th>\n",
       "      <th>C</th>\n",
       "      <th>D</th>\n",
       "    </tr>\n",
       "  </thead>\n",
       "  <tbody>\n",
       "    <tr>\n",
       "      <th>2013-01-04</th>\n",
       "      <td>0.280158</td>\n",
       "      <td>-0.685520</td>\n",
       "      <td>-0.137423</td>\n",
       "      <td>-0.124859</td>\n",
       "    </tr>\n",
       "    <tr>\n",
       "      <th>2013-01-02</th>\n",
       "      <td>0.995978</td>\n",
       "      <td>-0.509828</td>\n",
       "      <td>-0.186148</td>\n",
       "      <td>-0.265221</td>\n",
       "    </tr>\n",
       "    <tr>\n",
       "      <th>2013-01-03</th>\n",
       "      <td>-0.866981</td>\n",
       "      <td>-0.130418</td>\n",
       "      <td>0.022491</td>\n",
       "      <td>-0.315984</td>\n",
       "    </tr>\n",
       "    <tr>\n",
       "      <th>2013-01-05</th>\n",
       "      <td>-0.498899</td>\n",
       "      <td>-0.127431</td>\n",
       "      <td>-0.358899</td>\n",
       "      <td>0.751689</td>\n",
       "    </tr>\n",
       "    <tr>\n",
       "      <th>2013-01-01</th>\n",
       "      <td>0.179553</td>\n",
       "      <td>0.263283</td>\n",
       "      <td>0.500210</td>\n",
       "      <td>0.779059</td>\n",
       "    </tr>\n",
       "    <tr>\n",
       "      <th>2013-01-06</th>\n",
       "      <td>-0.705824</td>\n",
       "      <td>1.786893</td>\n",
       "      <td>-0.031778</td>\n",
       "      <td>-1.779740</td>\n",
       "    </tr>\n",
       "  </tbody>\n",
       "</table>\n",
       "</div>"
      ],
      "text/plain": [
       "                   A         B         C         D\n",
       "2013-01-04  0.280158 -0.685520 -0.137423 -0.124859\n",
       "2013-01-02  0.995978 -0.509828 -0.186148 -0.265221\n",
       "2013-01-03 -0.866981 -0.130418  0.022491 -0.315984\n",
       "2013-01-05 -0.498899 -0.127431 -0.358899  0.751689\n",
       "2013-01-01  0.179553  0.263283  0.500210  0.779059\n",
       "2013-01-06 -0.705824  1.786893 -0.031778 -1.779740"
      ]
     },
     "execution_count": 129,
     "metadata": {},
     "output_type": "execute_result"
    }
   ],
   "source": [
    "#Sorts the rows in ascending order based on the values in column as B\n",
    "df.sort_values(by='B') "
   ]
  },
  {
   "cell_type": "code",
   "execution_count": 130,
   "id": "76f59b96-6234-41e3-bf51-b8c655d5cb01",
   "metadata": {},
   "outputs": [
    {
     "data": {
      "text/html": [
       "<div>\n",
       "<style scoped>\n",
       "    .dataframe tbody tr th:only-of-type {\n",
       "        vertical-align: middle;\n",
       "    }\n",
       "\n",
       "    .dataframe tbody tr th {\n",
       "        vertical-align: top;\n",
       "    }\n",
       "\n",
       "    .dataframe thead th {\n",
       "        text-align: right;\n",
       "    }\n",
       "</style>\n",
       "<table border=\"1\" class=\"dataframe\">\n",
       "  <thead>\n",
       "    <tr style=\"text-align: right;\">\n",
       "      <th></th>\n",
       "      <th>A</th>\n",
       "      <th>B</th>\n",
       "      <th>C</th>\n",
       "      <th>D</th>\n",
       "    </tr>\n",
       "  </thead>\n",
       "  <tbody>\n",
       "    <tr>\n",
       "      <th>count</th>\n",
       "      <td>6.000000</td>\n",
       "      <td>6.000000</td>\n",
       "      <td>6.000000</td>\n",
       "      <td>6.000000</td>\n",
       "    </tr>\n",
       "    <tr>\n",
       "      <th>mean</th>\n",
       "      <td>-0.102669</td>\n",
       "      <td>0.099497</td>\n",
       "      <td>-0.031924</td>\n",
       "      <td>-0.159176</td>\n",
       "    </tr>\n",
       "    <tr>\n",
       "      <th>std</th>\n",
       "      <td>0.712488</td>\n",
       "      <td>0.890619</td>\n",
       "      <td>0.292560</td>\n",
       "      <td>0.935222</td>\n",
       "    </tr>\n",
       "    <tr>\n",
       "      <th>min</th>\n",
       "      <td>-0.866981</td>\n",
       "      <td>-0.685520</td>\n",
       "      <td>-0.358899</td>\n",
       "      <td>-1.779740</td>\n",
       "    </tr>\n",
       "    <tr>\n",
       "      <th>25%</th>\n",
       "      <td>-0.654092</td>\n",
       "      <td>-0.414975</td>\n",
       "      <td>-0.173967</td>\n",
       "      <td>-0.303293</td>\n",
       "    </tr>\n",
       "    <tr>\n",
       "      <th>50%</th>\n",
       "      <td>-0.159673</td>\n",
       "      <td>-0.128924</td>\n",
       "      <td>-0.084600</td>\n",
       "      <td>-0.195040</td>\n",
       "    </tr>\n",
       "    <tr>\n",
       "      <th>75%</th>\n",
       "      <td>0.255007</td>\n",
       "      <td>0.165604</td>\n",
       "      <td>0.008924</td>\n",
       "      <td>0.532552</td>\n",
       "    </tr>\n",
       "    <tr>\n",
       "      <th>max</th>\n",
       "      <td>0.995978</td>\n",
       "      <td>1.786893</td>\n",
       "      <td>0.500210</td>\n",
       "      <td>0.779059</td>\n",
       "    </tr>\n",
       "  </tbody>\n",
       "</table>\n",
       "</div>"
      ],
      "text/plain": [
       "              A         B         C         D\n",
       "count  6.000000  6.000000  6.000000  6.000000\n",
       "mean  -0.102669  0.099497 -0.031924 -0.159176\n",
       "std    0.712488  0.890619  0.292560  0.935222\n",
       "min   -0.866981 -0.685520 -0.358899 -1.779740\n",
       "25%   -0.654092 -0.414975 -0.173967 -0.303293\n",
       "50%   -0.159673 -0.128924 -0.084600 -0.195040\n",
       "75%    0.255007  0.165604  0.008924  0.532552\n",
       "max    0.995978  1.786893  0.500210  0.779059"
      ]
     },
     "execution_count": 130,
     "metadata": {},
     "output_type": "execute_result"
    }
   ],
   "source": [
    "# Describe shows a quick statistic summary of your data\n",
    "df.describe() "
   ]
  },
  {
   "cell_type": "code",
   "execution_count": 131,
   "id": "5a2c0f14-753e-4ff2-b3bd-401cd936287a",
   "metadata": {},
   "outputs": [
    {
     "data": {
      "text/plain": [
       "2013-01-01    0.179553\n",
       "2013-01-02    0.995978\n",
       "2013-01-03   -0.866981\n",
       "2013-01-04    0.280158\n",
       "2013-01-05   -0.498899\n",
       "2013-01-06   -0.705824\n",
       "Freq: D, Name: A, dtype: float64"
      ]
     },
     "execution_count": 131,
     "metadata": {},
     "output_type": "execute_result"
    }
   ],
   "source": [
    "#Selecting a single column, which yields a Series, equivalent to df.A \n",
    "df['A']"
   ]
  },
  {
   "cell_type": "code",
   "execution_count": 132,
   "id": "cec1838e-0943-4eef-972a-431a28284d31",
   "metadata": {},
   "outputs": [
    {
     "data": {
      "text/html": [
       "<div>\n",
       "<style scoped>\n",
       "    .dataframe tbody tr th:only-of-type {\n",
       "        vertical-align: middle;\n",
       "    }\n",
       "\n",
       "    .dataframe tbody tr th {\n",
       "        vertical-align: top;\n",
       "    }\n",
       "\n",
       "    .dataframe thead th {\n",
       "        text-align: right;\n",
       "    }\n",
       "</style>\n",
       "<table border=\"1\" class=\"dataframe\">\n",
       "  <thead>\n",
       "    <tr style=\"text-align: right;\">\n",
       "      <th></th>\n",
       "      <th>A</th>\n",
       "      <th>B</th>\n",
       "      <th>C</th>\n",
       "      <th>D</th>\n",
       "    </tr>\n",
       "  </thead>\n",
       "  <tbody>\n",
       "    <tr>\n",
       "      <th>2013-01-01</th>\n",
       "      <td>0.179553</td>\n",
       "      <td>0.263283</td>\n",
       "      <td>0.500210</td>\n",
       "      <td>0.779059</td>\n",
       "    </tr>\n",
       "    <tr>\n",
       "      <th>2013-01-02</th>\n",
       "      <td>0.995978</td>\n",
       "      <td>-0.509828</td>\n",
       "      <td>-0.186148</td>\n",
       "      <td>-0.265221</td>\n",
       "    </tr>\n",
       "    <tr>\n",
       "      <th>2013-01-03</th>\n",
       "      <td>-0.866981</td>\n",
       "      <td>-0.130418</td>\n",
       "      <td>0.022491</td>\n",
       "      <td>-0.315984</td>\n",
       "    </tr>\n",
       "  </tbody>\n",
       "</table>\n",
       "</div>"
      ],
      "text/plain": [
       "                   A         B         C         D\n",
       "2013-01-01  0.179553  0.263283  0.500210  0.779059\n",
       "2013-01-02  0.995978 -0.509828 -0.186148 -0.265221\n",
       "2013-01-03 -0.866981 -0.130418  0.022491 -0.315984"
      ]
     },
     "execution_count": 132,
     "metadata": {},
     "output_type": "execute_result"
    }
   ],
   "source": [
    "#Selecting via [], which slices the rows. \n",
    "df[0:3]"
   ]
  },
  {
   "cell_type": "code",
   "execution_count": 133,
   "id": "f4777b1f-82d0-4514-92a7-985de211c61f",
   "metadata": {},
   "outputs": [
    {
     "data": {
      "text/html": [
       "<div>\n",
       "<style scoped>\n",
       "    .dataframe tbody tr th:only-of-type {\n",
       "        vertical-align: middle;\n",
       "    }\n",
       "\n",
       "    .dataframe tbody tr th {\n",
       "        vertical-align: top;\n",
       "    }\n",
       "\n",
       "    .dataframe thead th {\n",
       "        text-align: right;\n",
       "    }\n",
       "</style>\n",
       "<table border=\"1\" class=\"dataframe\">\n",
       "  <thead>\n",
       "    <tr style=\"text-align: right;\">\n",
       "      <th></th>\n",
       "      <th>A</th>\n",
       "      <th>B</th>\n",
       "      <th>C</th>\n",
       "      <th>D</th>\n",
       "    </tr>\n",
       "  </thead>\n",
       "  <tbody>\n",
       "    <tr>\n",
       "      <th>2013-01-02</th>\n",
       "      <td>0.995978</td>\n",
       "      <td>-0.509828</td>\n",
       "      <td>-0.186148</td>\n",
       "      <td>-0.265221</td>\n",
       "    </tr>\n",
       "    <tr>\n",
       "      <th>2013-01-03</th>\n",
       "      <td>-0.866981</td>\n",
       "      <td>-0.130418</td>\n",
       "      <td>0.022491</td>\n",
       "      <td>-0.315984</td>\n",
       "    </tr>\n",
       "    <tr>\n",
       "      <th>2013-01-04</th>\n",
       "      <td>0.280158</td>\n",
       "      <td>-0.685520</td>\n",
       "      <td>-0.137423</td>\n",
       "      <td>-0.124859</td>\n",
       "    </tr>\n",
       "  </tbody>\n",
       "</table>\n",
       "</div>"
      ],
      "text/plain": [
       "                   A         B         C         D\n",
       "2013-01-02  0.995978 -0.509828 -0.186148 -0.265221\n",
       "2013-01-03 -0.866981 -0.130418  0.022491 -0.315984\n",
       "2013-01-04  0.280158 -0.685520 -0.137423 -0.124859"
      ]
     },
     "execution_count": 133,
     "metadata": {},
     "output_type": "execute_result"
    }
   ],
   "source": [
    "#selects rows index label as data index is time based \n",
    "df['20130102':'20130104'] \n"
   ]
  },
  {
   "cell_type": "code",
   "execution_count": 135,
   "id": "4fc8a45b-c533-42fe-917e-d5848cb714bd",
   "metadata": {},
   "outputs": [
    {
     "data": {
      "text/html": [
       "<div>\n",
       "<style scoped>\n",
       "    .dataframe tbody tr th:only-of-type {\n",
       "        vertical-align: middle;\n",
       "    }\n",
       "\n",
       "    .dataframe tbody tr th {\n",
       "        vertical-align: top;\n",
       "    }\n",
       "\n",
       "    .dataframe thead th {\n",
       "        text-align: right;\n",
       "    }\n",
       "</style>\n",
       "<table border=\"1\" class=\"dataframe\">\n",
       "  <thead>\n",
       "    <tr style=\"text-align: right;\">\n",
       "      <th></th>\n",
       "      <th>A</th>\n",
       "      <th>B</th>\n",
       "    </tr>\n",
       "  </thead>\n",
       "  <tbody>\n",
       "    <tr>\n",
       "      <th>2013-01-01</th>\n",
       "      <td>0.179553</td>\n",
       "      <td>0.263283</td>\n",
       "    </tr>\n",
       "    <tr>\n",
       "      <th>2013-01-02</th>\n",
       "      <td>0.995978</td>\n",
       "      <td>-0.509828</td>\n",
       "    </tr>\n",
       "    <tr>\n",
       "      <th>2013-01-03</th>\n",
       "      <td>-0.866981</td>\n",
       "      <td>-0.130418</td>\n",
       "    </tr>\n",
       "    <tr>\n",
       "      <th>2013-01-04</th>\n",
       "      <td>0.280158</td>\n",
       "      <td>-0.685520</td>\n",
       "    </tr>\n",
       "    <tr>\n",
       "      <th>2013-01-05</th>\n",
       "      <td>-0.498899</td>\n",
       "      <td>-0.127431</td>\n",
       "    </tr>\n",
       "    <tr>\n",
       "      <th>2013-01-06</th>\n",
       "      <td>-0.705824</td>\n",
       "      <td>1.786893</td>\n",
       "    </tr>\n",
       "  </tbody>\n",
       "</table>\n",
       "</div>"
      ],
      "text/plain": [
       "                   A         B\n",
       "2013-01-01  0.179553  0.263283\n",
       "2013-01-02  0.995978 -0.509828\n",
       "2013-01-03 -0.866981 -0.130418\n",
       "2013-01-04  0.280158 -0.685520\n",
       "2013-01-05 -0.498899 -0.127431\n",
       "2013-01-06 -0.705824  1.786893"
      ]
     },
     "execution_count": 135,
     "metadata": {},
     "output_type": "execute_result"
    }
   ],
   "source": [
    "#Selecting on a multi-axis by label\n",
    "df.loc[:,['A','B']] "
   ]
  },
  {
   "cell_type": "code",
   "execution_count": 136,
   "id": "b183afcf-abb0-4a62-9f07-9c08ab8ef670",
   "metadata": {},
   "outputs": [
    {
     "data": {
      "text/html": [
       "<div>\n",
       "<style scoped>\n",
       "    .dataframe tbody tr th:only-of-type {\n",
       "        vertical-align: middle;\n",
       "    }\n",
       "\n",
       "    .dataframe tbody tr th {\n",
       "        vertical-align: top;\n",
       "    }\n",
       "\n",
       "    .dataframe thead th {\n",
       "        text-align: right;\n",
       "    }\n",
       "</style>\n",
       "<table border=\"1\" class=\"dataframe\">\n",
       "  <thead>\n",
       "    <tr style=\"text-align: right;\">\n",
       "      <th></th>\n",
       "      <th>A</th>\n",
       "      <th>B</th>\n",
       "    </tr>\n",
       "  </thead>\n",
       "  <tbody>\n",
       "    <tr>\n",
       "      <th>2013-01-02</th>\n",
       "      <td>0.995978</td>\n",
       "      <td>-0.509828</td>\n",
       "    </tr>\n",
       "    <tr>\n",
       "      <th>2013-01-03</th>\n",
       "      <td>-0.866981</td>\n",
       "      <td>-0.130418</td>\n",
       "    </tr>\n",
       "    <tr>\n",
       "      <th>2013-01-04</th>\n",
       "      <td>0.280158</td>\n",
       "      <td>-0.685520</td>\n",
       "    </tr>\n",
       "  </tbody>\n",
       "</table>\n",
       "</div>"
      ],
      "text/plain": [
       "                   A         B\n",
       "2013-01-02  0.995978 -0.509828\n",
       "2013-01-03 -0.866981 -0.130418\n",
       "2013-01-04  0.280158 -0.685520"
      ]
     },
     "execution_count": 136,
     "metadata": {},
     "output_type": "execute_result"
    }
   ],
   "source": [
    "#Showing label slicing, both endpoints are included\n",
    "df.loc['20130102':'20130104',['A','B']] #df.loc used to select data."
   ]
  },
  {
   "cell_type": "code",
   "execution_count": 137,
   "id": "ac727d7f-deca-47cf-be66-35c3804b0c4a",
   "metadata": {},
   "outputs": [
    {
     "data": {
      "text/plain": [
       "A    0.995978\n",
       "B   -0.509828\n",
       "Name: 2013-01-02 00:00:00, dtype: float64"
      ]
     },
     "execution_count": 137,
     "metadata": {},
     "output_type": "execute_result"
    }
   ],
   "source": [
    "# Reduction in the dimensions of the returned object \n",
    "df.loc['20130102',['A','B']] "
   ]
  },
  {
   "cell_type": "code",
   "execution_count": 138,
   "id": "e543be3a-544d-4c3e-8842-ab08fc204108",
   "metadata": {},
   "outputs": [
    {
     "data": {
      "text/plain": [
       "np.float64(0.17955349503977672)"
      ]
     },
     "execution_count": 138,
     "metadata": {},
     "output_type": "execute_result"
    }
   ],
   "source": [
    "# For getting a scalar value \n",
    "df.loc[dates[0],'A']"
   ]
  },
  {
   "cell_type": "code",
   "execution_count": 139,
   "id": "583e806d-4081-4623-9fcc-06268526778d",
   "metadata": {},
   "outputs": [
    {
     "data": {
      "text/plain": [
       "np.float64(0.17955349503977672)"
      ]
     },
     "execution_count": 139,
     "metadata": {},
     "output_type": "execute_result"
    }
   ],
   "source": [
    "#for getting fast access to a scalar \n",
    "df.at[dates[0],'A']"
   ]
  },
  {
   "cell_type": "code",
   "execution_count": 140,
   "id": "e4340724-3ea8-4f3f-8b4e-ccab849c9867",
   "metadata": {},
   "outputs": [
    {
     "data": {
      "text/plain": [
       "A    0.280158\n",
       "B   -0.685520\n",
       "C   -0.137423\n",
       "D   -0.124859\n",
       "Name: 2013-01-04 00:00:00, dtype: float64"
      ]
     },
     "execution_count": 140,
     "metadata": {},
     "output_type": "execute_result"
    }
   ],
   "source": [
    "#select via the position of the passed integers \n",
    "df.iloc[3]"
   ]
  },
  {
   "cell_type": "code",
   "execution_count": 141,
   "id": "7b6d1232-bd86-4195-bf2b-8d54687995ba",
   "metadata": {},
   "outputs": [
    {
     "data": {
      "text/html": [
       "<div>\n",
       "<style scoped>\n",
       "    .dataframe tbody tr th:only-of-type {\n",
       "        vertical-align: middle;\n",
       "    }\n",
       "\n",
       "    .dataframe tbody tr th {\n",
       "        vertical-align: top;\n",
       "    }\n",
       "\n",
       "    .dataframe thead th {\n",
       "        text-align: right;\n",
       "    }\n",
       "</style>\n",
       "<table border=\"1\" class=\"dataframe\">\n",
       "  <thead>\n",
       "    <tr style=\"text-align: right;\">\n",
       "      <th></th>\n",
       "      <th>A</th>\n",
       "      <th>B</th>\n",
       "    </tr>\n",
       "  </thead>\n",
       "  <tbody>\n",
       "    <tr>\n",
       "      <th>2013-01-04</th>\n",
       "      <td>0.280158</td>\n",
       "      <td>-0.685520</td>\n",
       "    </tr>\n",
       "    <tr>\n",
       "      <th>2013-01-05</th>\n",
       "      <td>-0.498899</td>\n",
       "      <td>-0.127431</td>\n",
       "    </tr>\n",
       "  </tbody>\n",
       "</table>\n",
       "</div>"
      ],
      "text/plain": [
       "                   A         B\n",
       "2013-01-04  0.280158 -0.685520\n",
       "2013-01-05 -0.498899 -0.127431"
      ]
     },
     "execution_count": 141,
     "metadata": {},
     "output_type": "execute_result"
    }
   ],
   "source": [
    "# By integer slices, acting similar to numpy/python \n",
    "df.iloc[3:5,0:2] "
   ]
  },
  {
   "cell_type": "code",
   "execution_count": 142,
   "id": "09fb4391-6f07-46ad-adde-0332709d9fd8",
   "metadata": {},
   "outputs": [
    {
     "data": {
      "text/html": [
       "<div>\n",
       "<style scoped>\n",
       "    .dataframe tbody tr th:only-of-type {\n",
       "        vertical-align: middle;\n",
       "    }\n",
       "\n",
       "    .dataframe tbody tr th {\n",
       "        vertical-align: top;\n",
       "    }\n",
       "\n",
       "    .dataframe thead th {\n",
       "        text-align: right;\n",
       "    }\n",
       "</style>\n",
       "<table border=\"1\" class=\"dataframe\">\n",
       "  <thead>\n",
       "    <tr style=\"text-align: right;\">\n",
       "      <th></th>\n",
       "      <th>A</th>\n",
       "      <th>C</th>\n",
       "    </tr>\n",
       "  </thead>\n",
       "  <tbody>\n",
       "    <tr>\n",
       "      <th>2013-01-02</th>\n",
       "      <td>0.995978</td>\n",
       "      <td>-0.186148</td>\n",
       "    </tr>\n",
       "    <tr>\n",
       "      <th>2013-01-03</th>\n",
       "      <td>-0.866981</td>\n",
       "      <td>0.022491</td>\n",
       "    </tr>\n",
       "    <tr>\n",
       "      <th>2013-01-05</th>\n",
       "      <td>-0.498899</td>\n",
       "      <td>-0.358899</td>\n",
       "    </tr>\n",
       "  </tbody>\n",
       "</table>\n",
       "</div>"
      ],
      "text/plain": [
       "                   A         C\n",
       "2013-01-02  0.995978 -0.186148\n",
       "2013-01-03 -0.866981  0.022491\n",
       "2013-01-05 -0.498899 -0.358899"
      ]
     },
     "execution_count": 142,
     "metadata": {},
     "output_type": "execute_result"
    }
   ],
   "source": [
    "#By lists of integer position locations, similar to the numpy/python style\n",
    "df.iloc[[1,2,4],[0,2]]  #select rows 1,2,4 and column 0,2"
   ]
  },
  {
   "cell_type": "code",
   "execution_count": 143,
   "id": "c89ec432-d8c4-4863-9f09-855a78c4e234",
   "metadata": {},
   "outputs": [
    {
     "data": {
      "text/html": [
       "<div>\n",
       "<style scoped>\n",
       "    .dataframe tbody tr th:only-of-type {\n",
       "        vertical-align: middle;\n",
       "    }\n",
       "\n",
       "    .dataframe tbody tr th {\n",
       "        vertical-align: top;\n",
       "    }\n",
       "\n",
       "    .dataframe thead th {\n",
       "        text-align: right;\n",
       "    }\n",
       "</style>\n",
       "<table border=\"1\" class=\"dataframe\">\n",
       "  <thead>\n",
       "    <tr style=\"text-align: right;\">\n",
       "      <th></th>\n",
       "      <th>B</th>\n",
       "      <th>C</th>\n",
       "    </tr>\n",
       "  </thead>\n",
       "  <tbody>\n",
       "    <tr>\n",
       "      <th>2013-01-01</th>\n",
       "      <td>0.263283</td>\n",
       "      <td>0.500210</td>\n",
       "    </tr>\n",
       "    <tr>\n",
       "      <th>2013-01-02</th>\n",
       "      <td>-0.509828</td>\n",
       "      <td>-0.186148</td>\n",
       "    </tr>\n",
       "    <tr>\n",
       "      <th>2013-01-03</th>\n",
       "      <td>-0.130418</td>\n",
       "      <td>0.022491</td>\n",
       "    </tr>\n",
       "    <tr>\n",
       "      <th>2013-01-04</th>\n",
       "      <td>-0.685520</td>\n",
       "      <td>-0.137423</td>\n",
       "    </tr>\n",
       "    <tr>\n",
       "      <th>2013-01-05</th>\n",
       "      <td>-0.127431</td>\n",
       "      <td>-0.358899</td>\n",
       "    </tr>\n",
       "    <tr>\n",
       "      <th>2013-01-06</th>\n",
       "      <td>1.786893</td>\n",
       "      <td>-0.031778</td>\n",
       "    </tr>\n",
       "  </tbody>\n",
       "</table>\n",
       "</div>"
      ],
      "text/plain": [
       "                   B         C\n",
       "2013-01-01  0.263283  0.500210\n",
       "2013-01-02 -0.509828 -0.186148\n",
       "2013-01-03 -0.130418  0.022491\n",
       "2013-01-04 -0.685520 -0.137423\n",
       "2013-01-05 -0.127431 -0.358899\n",
       "2013-01-06  1.786893 -0.031778"
      ]
     },
     "execution_count": 143,
     "metadata": {},
     "output_type": "execute_result"
    }
   ],
   "source": [
    "# For slicing rows explicitly\n",
    "df.iloc[:,1:3]"
   ]
  },
  {
   "cell_type": "code",
   "execution_count": 144,
   "id": "40da878c-5c38-4e4a-81ed-20d24c84df81",
   "metadata": {},
   "outputs": [
    {
     "data": {
      "text/plain": [
       "np.float64(-0.5098278528050846)"
      ]
     },
     "execution_count": 144,
     "metadata": {},
     "output_type": "execute_result"
    }
   ],
   "source": [
    "# For getting a value explicitly \n",
    "df.iloc[1,1] "
   ]
  },
  {
   "cell_type": "code",
   "execution_count": 145,
   "id": "0f016444-79c9-4abd-ba5f-9e3adba0a2c4",
   "metadata": {},
   "outputs": [
    {
     "data": {
      "text/html": [
       "<div>\n",
       "<style scoped>\n",
       "    .dataframe tbody tr th:only-of-type {\n",
       "        vertical-align: middle;\n",
       "    }\n",
       "\n",
       "    .dataframe tbody tr th {\n",
       "        vertical-align: top;\n",
       "    }\n",
       "\n",
       "    .dataframe thead th {\n",
       "        text-align: right;\n",
       "    }\n",
       "</style>\n",
       "<table border=\"1\" class=\"dataframe\">\n",
       "  <thead>\n",
       "    <tr style=\"text-align: right;\">\n",
       "      <th></th>\n",
       "      <th>A</th>\n",
       "      <th>B</th>\n",
       "      <th>C</th>\n",
       "      <th>D</th>\n",
       "    </tr>\n",
       "  </thead>\n",
       "  <tbody>\n",
       "    <tr>\n",
       "      <th>2013-01-01</th>\n",
       "      <td>0.179553</td>\n",
       "      <td>0.263283</td>\n",
       "      <td>0.500210</td>\n",
       "      <td>0.779059</td>\n",
       "    </tr>\n",
       "    <tr>\n",
       "      <th>2013-01-02</th>\n",
       "      <td>0.995978</td>\n",
       "      <td>-0.509828</td>\n",
       "      <td>-0.186148</td>\n",
       "      <td>-0.265221</td>\n",
       "    </tr>\n",
       "    <tr>\n",
       "      <th>2013-01-04</th>\n",
       "      <td>0.280158</td>\n",
       "      <td>-0.685520</td>\n",
       "      <td>-0.137423</td>\n",
       "      <td>-0.124859</td>\n",
       "    </tr>\n",
       "  </tbody>\n",
       "</table>\n",
       "</div>"
      ],
      "text/plain": [
       "                   A         B         C         D\n",
       "2013-01-01  0.179553  0.263283  0.500210  0.779059\n",
       "2013-01-02  0.995978 -0.509828 -0.186148 -0.265221\n",
       "2013-01-04  0.280158 -0.685520 -0.137423 -0.124859"
      ]
     },
     "execution_count": 145,
     "metadata": {},
     "output_type": "execute_result"
    }
   ],
   "source": [
    "# Using a single column’s values to select data.  \n",
    "#returns all rows where the values in column A are greater than 0.\n",
    "df[df.A > 0] "
   ]
  },
  {
   "cell_type": "code",
   "execution_count": 146,
   "id": "e92d621f-0292-4ce6-9ae6-e773deb34b81",
   "metadata": {},
   "outputs": [
    {
     "data": {
      "text/html": [
       "<div>\n",
       "<style scoped>\n",
       "    .dataframe tbody tr th:only-of-type {\n",
       "        vertical-align: middle;\n",
       "    }\n",
       "\n",
       "    .dataframe tbody tr th {\n",
       "        vertical-align: top;\n",
       "    }\n",
       "\n",
       "    .dataframe thead th {\n",
       "        text-align: right;\n",
       "    }\n",
       "</style>\n",
       "<table border=\"1\" class=\"dataframe\">\n",
       "  <thead>\n",
       "    <tr style=\"text-align: right;\">\n",
       "      <th></th>\n",
       "      <th>A</th>\n",
       "      <th>B</th>\n",
       "      <th>C</th>\n",
       "      <th>D</th>\n",
       "    </tr>\n",
       "  </thead>\n",
       "  <tbody>\n",
       "    <tr>\n",
       "      <th>2013-01-01</th>\n",
       "      <td>0.179553</td>\n",
       "      <td>0.263283</td>\n",
       "      <td>0.500210</td>\n",
       "      <td>0.779059</td>\n",
       "    </tr>\n",
       "    <tr>\n",
       "      <th>2013-01-02</th>\n",
       "      <td>0.995978</td>\n",
       "      <td>NaN</td>\n",
       "      <td>NaN</td>\n",
       "      <td>NaN</td>\n",
       "    </tr>\n",
       "    <tr>\n",
       "      <th>2013-01-03</th>\n",
       "      <td>NaN</td>\n",
       "      <td>NaN</td>\n",
       "      <td>0.022491</td>\n",
       "      <td>NaN</td>\n",
       "    </tr>\n",
       "    <tr>\n",
       "      <th>2013-01-04</th>\n",
       "      <td>0.280158</td>\n",
       "      <td>NaN</td>\n",
       "      <td>NaN</td>\n",
       "      <td>NaN</td>\n",
       "    </tr>\n",
       "    <tr>\n",
       "      <th>2013-01-05</th>\n",
       "      <td>NaN</td>\n",
       "      <td>NaN</td>\n",
       "      <td>NaN</td>\n",
       "      <td>0.751689</td>\n",
       "    </tr>\n",
       "    <tr>\n",
       "      <th>2013-01-06</th>\n",
       "      <td>NaN</td>\n",
       "      <td>1.786893</td>\n",
       "      <td>NaN</td>\n",
       "      <td>NaN</td>\n",
       "    </tr>\n",
       "  </tbody>\n",
       "</table>\n",
       "</div>"
      ],
      "text/plain": [
       "                   A         B         C         D\n",
       "2013-01-01  0.179553  0.263283  0.500210  0.779059\n",
       "2013-01-02  0.995978       NaN       NaN       NaN\n",
       "2013-01-03       NaN       NaN  0.022491       NaN\n",
       "2013-01-04  0.280158       NaN       NaN       NaN\n",
       "2013-01-05       NaN       NaN       NaN  0.751689\n",
       "2013-01-06       NaN  1.786893       NaN       NaN"
      ]
     },
     "execution_count": 146,
     "metadata": {},
     "output_type": "execute_result"
    }
   ],
   "source": [
    "# Selecting values from a DataFrame where a boolean condition is met.\n",
    "df[df > 0] "
   ]
  },
  {
   "cell_type": "code",
   "execution_count": 147,
   "id": "ca0933e2-4154-46a1-8080-5bce3b012c96",
   "metadata": {},
   "outputs": [],
   "source": [
    "#Using the isin() method for filtering:\n",
    "df2 = df.copy() #creates a deepcopy of df to df2which won't affect the orginal dataframe of df"
   ]
  },
  {
   "cell_type": "code",
   "execution_count": 148,
   "id": "c0a93a26-8987-4192-80b8-824071ec1b6d",
   "metadata": {},
   "outputs": [],
   "source": [
    "df2['E'] = ['one', 'one','two','three','four','three'] "
   ]
  },
  {
   "cell_type": "code",
   "execution_count": 149,
   "id": "9a7681d2-25f3-4a51-ac16-55d32a0c80ec",
   "metadata": {},
   "outputs": [
    {
     "name": "stdout",
     "output_type": "stream",
     "text": [
      "                   A         B         C         D      E\n",
      "2013-01-01  0.179553  0.263283  0.500210  0.779059    one\n",
      "2013-01-02  0.995978 -0.509828 -0.186148 -0.265221    one\n",
      "2013-01-03 -0.866981 -0.130418  0.022491 -0.315984    two\n",
      "2013-01-04  0.280158 -0.685520 -0.137423 -0.124859  three\n",
      "2013-01-05 -0.498899 -0.127431 -0.358899  0.751689   four\n",
      "2013-01-06 -0.705824  1.786893 -0.031778 -1.779740  three\n"
     ]
    }
   ],
   "source": [
    "print(df2)"
   ]
  },
  {
   "cell_type": "code",
   "execution_count": 150,
   "id": "17e65f36-8501-42ba-9333-ca0a32c7bef3",
   "metadata": {},
   "outputs": [
    {
     "data": {
      "text/html": [
       "<div>\n",
       "<style scoped>\n",
       "    .dataframe tbody tr th:only-of-type {\n",
       "        vertical-align: middle;\n",
       "    }\n",
       "\n",
       "    .dataframe tbody tr th {\n",
       "        vertical-align: top;\n",
       "    }\n",
       "\n",
       "    .dataframe thead th {\n",
       "        text-align: right;\n",
       "    }\n",
       "</style>\n",
       "<table border=\"1\" class=\"dataframe\">\n",
       "  <thead>\n",
       "    <tr style=\"text-align: right;\">\n",
       "      <th></th>\n",
       "      <th>A</th>\n",
       "      <th>B</th>\n",
       "      <th>C</th>\n",
       "      <th>D</th>\n",
       "      <th>E</th>\n",
       "    </tr>\n",
       "  </thead>\n",
       "  <tbody>\n",
       "    <tr>\n",
       "      <th>2013-01-03</th>\n",
       "      <td>-0.866981</td>\n",
       "      <td>-0.130418</td>\n",
       "      <td>0.022491</td>\n",
       "      <td>-0.315984</td>\n",
       "      <td>two</td>\n",
       "    </tr>\n",
       "    <tr>\n",
       "      <th>2013-01-05</th>\n",
       "      <td>-0.498899</td>\n",
       "      <td>-0.127431</td>\n",
       "      <td>-0.358899</td>\n",
       "      <td>0.751689</td>\n",
       "      <td>four</td>\n",
       "    </tr>\n",
       "  </tbody>\n",
       "</table>\n",
       "</div>"
      ],
      "text/plain": [
       "                   A         B         C         D     E\n",
       "2013-01-03 -0.866981 -0.130418  0.022491 -0.315984   two\n",
       "2013-01-05 -0.498899 -0.127431 -0.358899  0.751689  four"
      ]
     },
     "execution_count": 150,
     "metadata": {},
     "output_type": "execute_result"
    }
   ],
   "source": [
    "df2[df2['E'].isin(['two','four'])] #filtering"
   ]
  },
  {
   "cell_type": "code",
   "execution_count": null,
   "id": "f8b3ce2f-c02b-4b2d-b949-43660322e889",
   "metadata": {},
   "outputs": [],
   "source": []
  }
 ],
 "metadata": {
  "kernelspec": {
   "display_name": "Python [conda env:base] *",
   "language": "python",
   "name": "conda-base-py"
  },
  "language_info": {
   "codemirror_mode": {
    "name": "ipython",
    "version": 3
   },
   "file_extension": ".py",
   "mimetype": "text/x-python",
   "name": "python",
   "nbconvert_exporter": "python",
   "pygments_lexer": "ipython3",
   "version": "3.13.5"
  }
 },
 "nbformat": 4,
 "nbformat_minor": 5
}
